{
 "cells": [
  {
   "cell_type": "code",
   "execution_count": 1,
   "id": "7b140231",
   "metadata": {},
   "outputs": [],
   "source": [
    "s3_link = \"https://ffai.s3.amazonaws.com/WR_all\""
   ]
  },
  {
   "cell_type": "code",
   "execution_count": null,
   "id": "6934c939",
   "metadata": {},
   "outputs": [],
   "source": []
  }
 ],
 "metadata": {
  "kernelspec": {
   "display_name": "Python 3 (ipykernel)",
   "language": "python",
   "name": "python3"
  },
  "language_info": {
   "codemirror_mode": {
    "name": "ipython",
    "version": 3
   },
   "file_extension": ".py",
   "mimetype": "text/x-python",
   "name": "python",
   "nbconvert_exporter": "python",
   "pygments_lexer": "ipython3",
   "version": "3.7.11"
  }
 },
 "nbformat": 4,
 "nbformat_minor": 5
}
