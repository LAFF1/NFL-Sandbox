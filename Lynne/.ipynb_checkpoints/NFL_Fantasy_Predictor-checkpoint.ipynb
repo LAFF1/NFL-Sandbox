{
 "cells": [
  {
   "cell_type": "markdown",
   "id": "cef5a6cb",
   "metadata": {},
   "source": [
    "##  <span style='color:green '>NFL Fantasy Football Draft Position Predictor</scan>\n",
    "<span style='color:green '>This script runs the model from NFL_Fantasy_model_Tuner</scan>"
   ]
  },
  {
   "cell_type": "code",
   "execution_count": 1,
   "id": "9b30c5d1",
   "metadata": {},
   "outputs": [],
   "source": [
    "import pandas as pd\n",
    "from sklearn.decomposition import PCA\n",
    "from sklearn.preprocessing import StandardScaler\n",
    "import joblib"
   ]
  },
  {
   "cell_type": "markdown",
   "id": "07bd17a7",
   "metadata": {},
   "source": [
    "###  <span style='color:green '> Load NFL Fantasy Prediction Model</scan>"
   ]
  },
  {
   "cell_type": "code",
   "execution_count": 2,
   "id": "e140148b",
   "metadata": {},
   "outputs": [],
   "source": [
    "draft = joblib.load(\"draft_position.joblib\")"
   ]
  },
  {
   "cell_type": "markdown",
   "id": "fc29d190",
   "metadata": {},
   "source": [
    "###  <span style='color:green '>Load Data to run predictions</scan>"
   ]
  },
  {
   "cell_type": "code",
   "execution_count": 3,
   "id": "cf11b547",
   "metadata": {},
   "outputs": [],
   "source": [
    "# This file is the output from NFL Data Cleaned.py \n",
    "apd = pd.read_csv('LynnesMegaFile.csv') \n",
    "apd_scope = apd[['Player', 'FantasyPoints', 'Production']].copy()"
   ]
  },
  {
   "cell_type": "markdown",
   "id": "22a28d2f",
   "metadata": {},
   "source": [
    "###  <span style='color:green '>Get Data Ready </scan>\n",
    "\n",
    " <span style='color:green '>* Look for new invalid data  \n",
    "     * Remove unnamed column and player name  \n",
    "    * Scale our new data</scan>"
   ]
  },
  {
   "cell_type": "code",
   "execution_count": 4,
   "id": "af992647",
   "metadata": {},
   "outputs": [],
   "source": [
    "# Check for unexpected nulls \n",
    "count_nan = apd.isna().sum().sum()\n",
    "if count_nan > 0:\n",
    "    print(f'Invaid data Encountered: {count_nan} fields have null values')\n",
    "    \n",
    "# Drop Name Column and Unmnamed Column\n",
    "col = [0,1]\n",
    "apd.drop(apd.columns[col],axis=1,inplace=True) \n",
    "\n",
    "# Standarize data with StandarScaler\n",
    "apds = StandardScaler().fit_transform(apd)"
   ]
  },
  {
   "cell_type": "markdown",
   "id": "146e95f2",
   "metadata": {},
   "source": [
    "###  <span style='color:green '> Apply PCA </scan> "
   ]
  },
  {
   "cell_type": "code",
   "execution_count": 5,
   "id": "7461d445",
   "metadata": {},
   "outputs": [],
   "source": [
    "# Applying PCA to reduce dimensions while preserving 99% of the explained variance \n",
    "pca = PCA(n_components= .99)\n",
    "\n",
    "# Fit our new Principal Component Analysis reduced Features to our Model\n",
    "pfa = pca.fit_transform(apds)\n",
    "\n",
    "# Transform PCA data to a DataFrame\n",
    "pf = pd.DataFrame(data=pfa)"
   ]
  },
  {
   "cell_type": "markdown",
   "id": "295a0aab",
   "metadata": {},
   "source": [
    "###  <span style='color:green '>Predict Draft Positions</scan>"
   ]
  },
  {
   "cell_type": "code",
   "execution_count": 6,
   "id": "c24af76b",
   "metadata": {},
   "outputs": [],
   "source": [
    "draft_position = draft.predict(pf)"
   ]
  },
  {
   "cell_type": "markdown",
   "id": "825aee37",
   "metadata": {},
   "source": [
    "###  <span style='color:green '>Add predicted draft positions to our results file </scan>"
   ]
  },
  {
   "cell_type": "code",
   "execution_count": 7,
   "id": "d50182ef",
   "metadata": {},
   "outputs": [],
   "source": [
    "# Add column to results df\n",
    "apd_scope['Prediction'] = draft_position\n",
    "\n",
    "# Write file to csv \n",
    "apd_scope.to_csv('Draft_position.csv')"
   ]
  }
 ],
 "metadata": {
  "kernelspec": {
   "display_name": "Python 3 (ipykernel)",
   "language": "python",
   "name": "python3"
  },
  "language_info": {
   "codemirror_mode": {
    "name": "ipython",
    "version": 3
   },
   "file_extension": ".py",
   "mimetype": "text/x-python",
   "name": "python",
   "nbconvert_exporter": "python",
   "pygments_lexer": "ipython3",
   "version": "3.9.7"
  }
 },
 "nbformat": 4,
 "nbformat_minor": 5
}
