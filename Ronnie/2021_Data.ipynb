{
 "cells": [
  {
   "cell_type": "code",
   "execution_count": 1,
   "id": "8dd27c0d",
   "metadata": {},
   "outputs": [
    {
     "name": "stdout",
     "output_type": "stream",
     "text": [
      "Requirement already satisfied: plotly in c:\\users\\pp257\\anaconda3\\envs\\pythondata\\lib\\site-packages (5.10.0)\n",
      "Requirement already satisfied: tenacity>=6.2.0 in c:\\users\\pp257\\anaconda3\\envs\\pythondata\\lib\\site-packages (from plotly) (8.0.1)\n",
      "Note: you may need to restart the kernel to use updated packages.\n"
     ]
    }
   ],
   "source": [
    "pip install plotly"
   ]
  },
  {
   "cell_type": "code",
   "execution_count": 2,
   "id": "20d83d50",
   "metadata": {},
   "outputs": [
    {
     "data": {
      "text/html": [
       "<div>\n",
       "<style scoped>\n",
       "    .dataframe tbody tr th:only-of-type {\n",
       "        vertical-align: middle;\n",
       "    }\n",
       "\n",
       "    .dataframe tbody tr th {\n",
       "        vertical-align: top;\n",
       "    }\n",
       "\n",
       "    .dataframe thead th {\n",
       "        text-align: right;\n",
       "    }\n",
       "</style>\n",
       "<table border=\"1\" class=\"dataframe\">\n",
       "  <thead>\n",
       "    <tr style=\"text-align: right;\">\n",
       "      <th></th>\n",
       "      <th>Unnamed: 0</th>\n",
       "      <th>Player</th>\n",
       "      <th>Tm</th>\n",
       "      <th>Pos</th>\n",
       "      <th>Age</th>\n",
       "      <th>G</th>\n",
       "      <th>GS</th>\n",
       "      <th>Tgt</th>\n",
       "      <th>Rec</th>\n",
       "      <th>PassingYds</th>\n",
       "      <th>...</th>\n",
       "      <th>PassingAtt</th>\n",
       "      <th>RushingYds</th>\n",
       "      <th>RushingTD</th>\n",
       "      <th>RushingAtt</th>\n",
       "      <th>ReceivingYds</th>\n",
       "      <th>ReceivingTD</th>\n",
       "      <th>FantasyPoints</th>\n",
       "      <th>Int</th>\n",
       "      <th>Fumbles</th>\n",
       "      <th>FumblesLost</th>\n",
       "    </tr>\n",
       "  </thead>\n",
       "  <tbody>\n",
       "    <tr>\n",
       "      <th>0</th>\n",
       "      <td>0</td>\n",
       "      <td>Jonathan Taylor*+</td>\n",
       "      <td>IND</td>\n",
       "      <td>RB</td>\n",
       "      <td>22</td>\n",
       "      <td>17</td>\n",
       "      <td>17</td>\n",
       "      <td>51.0</td>\n",
       "      <td>40.0</td>\n",
       "      <td>0.0</td>\n",
       "      <td>...</td>\n",
       "      <td>0.0</td>\n",
       "      <td>1811.0</td>\n",
       "      <td>18.0</td>\n",
       "      <td>332.0</td>\n",
       "      <td>360.0</td>\n",
       "      <td>2.0</td>\n",
       "      <td>333.0</td>\n",
       "      <td>0.0</td>\n",
       "      <td>4.0</td>\n",
       "      <td>2.0</td>\n",
       "    </tr>\n",
       "    <tr>\n",
       "      <th>1</th>\n",
       "      <td>1</td>\n",
       "      <td>Cooper Kupp*+</td>\n",
       "      <td>LAR</td>\n",
       "      <td>WR</td>\n",
       "      <td>28</td>\n",
       "      <td>17</td>\n",
       "      <td>17</td>\n",
       "      <td>191.0</td>\n",
       "      <td>145.0</td>\n",
       "      <td>0.0</td>\n",
       "      <td>...</td>\n",
       "      <td>1.0</td>\n",
       "      <td>18.0</td>\n",
       "      <td>0.0</td>\n",
       "      <td>4.0</td>\n",
       "      <td>1947.0</td>\n",
       "      <td>16.0</td>\n",
       "      <td>295.0</td>\n",
       "      <td>0.0</td>\n",
       "      <td>0.0</td>\n",
       "      <td>0.0</td>\n",
       "    </tr>\n",
       "    <tr>\n",
       "      <th>2</th>\n",
       "      <td>2</td>\n",
       "      <td>Deebo Samuel*+</td>\n",
       "      <td>SFO</td>\n",
       "      <td>WR</td>\n",
       "      <td>25</td>\n",
       "      <td>16</td>\n",
       "      <td>15</td>\n",
       "      <td>121.0</td>\n",
       "      <td>77.0</td>\n",
       "      <td>24.0</td>\n",
       "      <td>...</td>\n",
       "      <td>2.0</td>\n",
       "      <td>365.0</td>\n",
       "      <td>8.0</td>\n",
       "      <td>59.0</td>\n",
       "      <td>1405.0</td>\n",
       "      <td>6.0</td>\n",
       "      <td>262.0</td>\n",
       "      <td>0.0</td>\n",
       "      <td>4.0</td>\n",
       "      <td>2.0</td>\n",
       "    </tr>\n",
       "    <tr>\n",
       "      <th>3</th>\n",
       "      <td>3</td>\n",
       "      <td>Josh Allen</td>\n",
       "      <td>BUF</td>\n",
       "      <td>QB</td>\n",
       "      <td>25</td>\n",
       "      <td>17</td>\n",
       "      <td>17</td>\n",
       "      <td>0.0</td>\n",
       "      <td>0.0</td>\n",
       "      <td>4407.0</td>\n",
       "      <td>...</td>\n",
       "      <td>646.0</td>\n",
       "      <td>763.0</td>\n",
       "      <td>6.0</td>\n",
       "      <td>122.0</td>\n",
       "      <td>0.0</td>\n",
       "      <td>0.0</td>\n",
       "      <td>403.0</td>\n",
       "      <td>15.0</td>\n",
       "      <td>8.0</td>\n",
       "      <td>3.0</td>\n",
       "    </tr>\n",
       "    <tr>\n",
       "      <th>4</th>\n",
       "      <td>4</td>\n",
       "      <td>Austin Ekeler</td>\n",
       "      <td>LAC</td>\n",
       "      <td>RB</td>\n",
       "      <td>26</td>\n",
       "      <td>16</td>\n",
       "      <td>16</td>\n",
       "      <td>94.0</td>\n",
       "      <td>70.0</td>\n",
       "      <td>0.0</td>\n",
       "      <td>...</td>\n",
       "      <td>0.0</td>\n",
       "      <td>911.0</td>\n",
       "      <td>12.0</td>\n",
       "      <td>206.0</td>\n",
       "      <td>647.0</td>\n",
       "      <td>8.0</td>\n",
       "      <td>274.0</td>\n",
       "      <td>0.0</td>\n",
       "      <td>4.0</td>\n",
       "      <td>3.0</td>\n",
       "    </tr>\n",
       "  </tbody>\n",
       "</table>\n",
       "<p>5 rows × 21 columns</p>\n",
       "</div>"
      ],
      "text/plain": [
       "   Unnamed: 0             Player   Tm Pos  Age   G  GS    Tgt    Rec  \\\n",
       "0           0  Jonathan Taylor*+  IND  RB   22  17  17   51.0   40.0   \n",
       "1           1      Cooper Kupp*+  LAR  WR   28  17  17  191.0  145.0   \n",
       "2           2     Deebo Samuel*+  SFO  WR   25  16  15  121.0   77.0   \n",
       "3           3         Josh Allen  BUF  QB   25  17  17    0.0    0.0   \n",
       "4           4      Austin Ekeler  LAC  RB   26  16  16   94.0   70.0   \n",
       "\n",
       "   PassingYds  ...  PassingAtt  RushingYds  RushingTD  RushingAtt  \\\n",
       "0         0.0  ...         0.0      1811.0       18.0       332.0   \n",
       "1         0.0  ...         1.0        18.0        0.0         4.0   \n",
       "2        24.0  ...         2.0       365.0        8.0        59.0   \n",
       "3      4407.0  ...       646.0       763.0        6.0       122.0   \n",
       "4         0.0  ...         0.0       911.0       12.0       206.0   \n",
       "\n",
       "   ReceivingYds  ReceivingTD  FantasyPoints   Int  Fumbles  FumblesLost  \n",
       "0         360.0          2.0          333.0   0.0      4.0          2.0  \n",
       "1        1947.0         16.0          295.0   0.0      0.0          0.0  \n",
       "2        1405.0          6.0          262.0   0.0      4.0          2.0  \n",
       "3           0.0          0.0          403.0  15.0      8.0          3.0  \n",
       "4         647.0          8.0          274.0   0.0      4.0          3.0  \n",
       "\n",
       "[5 rows x 21 columns]"
      ]
     },
     "execution_count": 2,
     "metadata": {},
     "output_type": "execute_result"
    }
   ],
   "source": [
    "import pandas as pd\n",
    "import plotly.express as px  \n",
    "csv_path = 'data/2021.csv' \n",
    "\n",
    "df = pd.read_csv(csv_path) \n",
    "\n",
    "df.head() # view the first 5 rows of our DataFrame"
   ]
  },
  {
   "cell_type": "code",
   "execution_count": 4,
   "id": "a5d2cbad",
   "metadata": {},
   "outputs": [
    {
     "name": "stdout",
     "output_type": "stream",
     "text": [
      "(671, 21)\n",
      "We have 671 players we can analyze for the 2021 season\n",
      "We have 21 columns of data we can analyze for the 2021 season\n"
     ]
    }
   ],
   "source": [
    "# shape is an attribute that tells us the shape of our DataFrame in the format (rows, columns)\n",
    "print(df.shape)\n",
    "print('We have', df.shape[0], 'players we can analyze for the 2021 season')\n",
    "print('We have', df.shape[1], 'columns of data we can analyze for the 2021 season')\n"
   ]
  },
  {
   "cell_type": "code",
   "execution_count": 5,
   "id": "d716d843",
   "metadata": {},
   "outputs": [
    {
     "data": {
      "text/plain": [
       "Index(['Unnamed: 0', 'Player', 'Tm', 'Pos', 'Age', 'G', 'GS', 'Tgt', 'Rec',\n",
       "       'PassingYds', 'PassingTD', 'PassingAtt', 'RushingYds', 'RushingTD',\n",
       "       'RushingAtt', 'ReceivingYds', 'ReceivingTD', 'FantasyPoints', 'Int',\n",
       "       'Fumbles', 'FumblesLost'],\n",
       "      dtype='object')"
      ]
     },
     "execution_count": 5,
     "metadata": {},
     "output_type": "execute_result"
    }
   ],
   "source": [
    "# Viewing Columns\n",
    "df.columns"
   ]
  },
  {
   "cell_type": "markdown",
   "id": "72ca7799",
   "metadata": {},
   "source": [
    "# 2021 Running Back Data "
   ]
  },
  {
   "cell_type": "code",
   "execution_count": 32,
   "id": "0a0bdef9",
   "metadata": {},
   "outputs": [],
   "source": [
    "# RBs by usage // Creating separate Running Back DF \n",
    "rb_df = df.loc[df['Pos'] == 'RB', ['Player', 'Tgt', 'RushingAtt', 'RushingTD',  'ReceivingTD','FantasyPoints']]\n",
    "rb_df['Usage'] = df['Tgt'] + df['RushingAtt']\n",
    "rb_df['Touchdowns'] = df['RushingTD'] + df['ReceivingTD']"
   ]
  },
  {
   "cell_type": "code",
   "execution_count": 33,
   "id": "35de238e",
   "metadata": {},
   "outputs": [
    {
     "data": {
      "text/html": [
       "<div>\n",
       "<style scoped>\n",
       "    .dataframe tbody tr th:only-of-type {\n",
       "        vertical-align: middle;\n",
       "    }\n",
       "\n",
       "    .dataframe tbody tr th {\n",
       "        vertical-align: top;\n",
       "    }\n",
       "\n",
       "    .dataframe thead th {\n",
       "        text-align: right;\n",
       "    }\n",
       "</style>\n",
       "<table border=\"1\" class=\"dataframe\">\n",
       "  <thead>\n",
       "    <tr style=\"text-align: right;\">\n",
       "      <th></th>\n",
       "      <th>Player</th>\n",
       "      <th>Tgt</th>\n",
       "      <th>RushingAtt</th>\n",
       "      <th>RushingTD</th>\n",
       "      <th>ReceivingTD</th>\n",
       "      <th>FantasyPoints</th>\n",
       "      <th>Usage</th>\n",
       "      <th>Touchdowns</th>\n",
       "    </tr>\n",
       "  </thead>\n",
       "  <tbody>\n",
       "    <tr>\n",
       "      <th>0</th>\n",
       "      <td>Jonathan Taylor*+</td>\n",
       "      <td>51.0</td>\n",
       "      <td>332.0</td>\n",
       "      <td>18.0</td>\n",
       "      <td>2.0</td>\n",
       "      <td>333.0</td>\n",
       "      <td>383.0</td>\n",
       "      <td>20.0</td>\n",
       "    </tr>\n",
       "    <tr>\n",
       "      <th>4</th>\n",
       "      <td>Austin Ekeler</td>\n",
       "      <td>94.0</td>\n",
       "      <td>206.0</td>\n",
       "      <td>12.0</td>\n",
       "      <td>8.0</td>\n",
       "      <td>274.0</td>\n",
       "      <td>300.0</td>\n",
       "      <td>20.0</td>\n",
       "    </tr>\n",
       "    <tr>\n",
       "      <th>10</th>\n",
       "      <td>Joe Mixon*</td>\n",
       "      <td>48.0</td>\n",
       "      <td>292.0</td>\n",
       "      <td>13.0</td>\n",
       "      <td>3.0</td>\n",
       "      <td>246.0</td>\n",
       "      <td>340.0</td>\n",
       "      <td>16.0</td>\n",
       "    </tr>\n",
       "    <tr>\n",
       "      <th>13</th>\n",
       "      <td>Najee Harris*</td>\n",
       "      <td>94.0</td>\n",
       "      <td>307.0</td>\n",
       "      <td>7.0</td>\n",
       "      <td>3.0</td>\n",
       "      <td>227.0</td>\n",
       "      <td>401.0</td>\n",
       "      <td>10.0</td>\n",
       "    </tr>\n",
       "    <tr>\n",
       "      <th>15</th>\n",
       "      <td>James Conner*</td>\n",
       "      <td>39.0</td>\n",
       "      <td>202.0</td>\n",
       "      <td>15.0</td>\n",
       "      <td>3.0</td>\n",
       "      <td>221.0</td>\n",
       "      <td>241.0</td>\n",
       "      <td>18.0</td>\n",
       "    </tr>\n",
       "    <tr>\n",
       "      <th>21</th>\n",
       "      <td>Ezekiel Elliott</td>\n",
       "      <td>65.0</td>\n",
       "      <td>237.0</td>\n",
       "      <td>10.0</td>\n",
       "      <td>2.0</td>\n",
       "      <td>205.0</td>\n",
       "      <td>302.0</td>\n",
       "      <td>12.0</td>\n",
       "    </tr>\n",
       "    <tr>\n",
       "      <th>23</th>\n",
       "      <td>Nick Chubb*</td>\n",
       "      <td>25.0</td>\n",
       "      <td>228.0</td>\n",
       "      <td>8.0</td>\n",
       "      <td>1.0</td>\n",
       "      <td>195.0</td>\n",
       "      <td>253.0</td>\n",
       "      <td>9.0</td>\n",
       "    </tr>\n",
       "    <tr>\n",
       "      <th>27</th>\n",
       "      <td>Damien Harris</td>\n",
       "      <td>21.0</td>\n",
       "      <td>202.0</td>\n",
       "      <td>15.0</td>\n",
       "      <td>0.0</td>\n",
       "      <td>192.0</td>\n",
       "      <td>223.0</td>\n",
       "      <td>15.0</td>\n",
       "    </tr>\n",
       "    <tr>\n",
       "      <th>31</th>\n",
       "      <td>Alvin Kamara*</td>\n",
       "      <td>67.0</td>\n",
       "      <td>240.0</td>\n",
       "      <td>4.0</td>\n",
       "      <td>5.0</td>\n",
       "      <td>188.0</td>\n",
       "      <td>307.0</td>\n",
       "      <td>9.0</td>\n",
       "    </tr>\n",
       "    <tr>\n",
       "      <th>32</th>\n",
       "      <td>Antonio Gibson</td>\n",
       "      <td>52.0</td>\n",
       "      <td>258.0</td>\n",
       "      <td>7.0</td>\n",
       "      <td>3.0</td>\n",
       "      <td>187.0</td>\n",
       "      <td>310.0</td>\n",
       "      <td>10.0</td>\n",
       "    </tr>\n",
       "  </tbody>\n",
       "</table>\n",
       "</div>"
      ],
      "text/plain": [
       "               Player   Tgt  RushingAtt  RushingTD  ReceivingTD  \\\n",
       "0   Jonathan Taylor*+  51.0       332.0       18.0          2.0   \n",
       "4       Austin Ekeler  94.0       206.0       12.0          8.0   \n",
       "10         Joe Mixon*  48.0       292.0       13.0          3.0   \n",
       "13      Najee Harris*  94.0       307.0        7.0          3.0   \n",
       "15      James Conner*  39.0       202.0       15.0          3.0   \n",
       "21    Ezekiel Elliott  65.0       237.0       10.0          2.0   \n",
       "23        Nick Chubb*  25.0       228.0        8.0          1.0   \n",
       "27      Damien Harris  21.0       202.0       15.0          0.0   \n",
       "31      Alvin Kamara*  67.0       240.0        4.0          5.0   \n",
       "32     Antonio Gibson  52.0       258.0        7.0          3.0   \n",
       "\n",
       "    FantasyPoints  Usage  Touchdowns  \n",
       "0           333.0  383.0        20.0  \n",
       "4           274.0  300.0        20.0  \n",
       "10          246.0  340.0        16.0  \n",
       "13          227.0  401.0        10.0  \n",
       "15          221.0  241.0        18.0  \n",
       "21          205.0  302.0        12.0  \n",
       "23          195.0  253.0         9.0  \n",
       "27          192.0  223.0        15.0  \n",
       "31          188.0  307.0         9.0  \n",
       "32          187.0  310.0        10.0  "
      ]
     },
     "execution_count": 33,
     "metadata": {},
     "output_type": "execute_result"
    }
   ],
   "source": [
    "rb_df.head(10) #RBs for 2021"
   ]
  },
  {
   "cell_type": "code",
   "execution_count": 22,
   "id": "b99fcf83",
   "metadata": {},
   "outputs": [
    {
     "data": {
      "text/html": [
       "<div>\n",
       "<style scoped>\n",
       "    .dataframe tbody tr th:only-of-type {\n",
       "        vertical-align: middle;\n",
       "    }\n",
       "\n",
       "    .dataframe tbody tr th {\n",
       "        vertical-align: top;\n",
       "    }\n",
       "\n",
       "    .dataframe thead th {\n",
       "        text-align: right;\n",
       "    }\n",
       "</style>\n",
       "<table border=\"1\" class=\"dataframe\">\n",
       "  <thead>\n",
       "    <tr style=\"text-align: right;\">\n",
       "      <th></th>\n",
       "      <th>Player</th>\n",
       "      <th>Tgt</th>\n",
       "      <th>RushingAtt</th>\n",
       "      <th>RushingTD</th>\n",
       "      <th>FantasyPoints</th>\n",
       "      <th>Usage</th>\n",
       "      <th>UsageRank</th>\n",
       "      <th>FantasyPointsRank</th>\n",
       "    </tr>\n",
       "  </thead>\n",
       "  <tbody>\n",
       "    <tr>\n",
       "      <th>13</th>\n",
       "      <td>Najee Harris*</td>\n",
       "      <td>94.0</td>\n",
       "      <td>307.0</td>\n",
       "      <td>7.0</td>\n",
       "      <td>227.0</td>\n",
       "      <td>401.0</td>\n",
       "      <td>1.0</td>\n",
       "      <td>4.0</td>\n",
       "    </tr>\n",
       "    <tr>\n",
       "      <th>0</th>\n",
       "      <td>Jonathan Taylor*+</td>\n",
       "      <td>51.0</td>\n",
       "      <td>332.0</td>\n",
       "      <td>18.0</td>\n",
       "      <td>333.0</td>\n",
       "      <td>383.0</td>\n",
       "      <td>2.0</td>\n",
       "      <td>1.0</td>\n",
       "    </tr>\n",
       "    <tr>\n",
       "      <th>10</th>\n",
       "      <td>Joe Mixon*</td>\n",
       "      <td>48.0</td>\n",
       "      <td>292.0</td>\n",
       "      <td>13.0</td>\n",
       "      <td>246.0</td>\n",
       "      <td>340.0</td>\n",
       "      <td>3.0</td>\n",
       "      <td>3.0</td>\n",
       "    </tr>\n",
       "    <tr>\n",
       "      <th>32</th>\n",
       "      <td>Antonio Gibson</td>\n",
       "      <td>52.0</td>\n",
       "      <td>258.0</td>\n",
       "      <td>7.0</td>\n",
       "      <td>187.0</td>\n",
       "      <td>310.0</td>\n",
       "      <td>4.0</td>\n",
       "      <td>10.5</td>\n",
       "    </tr>\n",
       "    <tr>\n",
       "      <th>31</th>\n",
       "      <td>Alvin Kamara*</td>\n",
       "      <td>67.0</td>\n",
       "      <td>240.0</td>\n",
       "      <td>4.0</td>\n",
       "      <td>188.0</td>\n",
       "      <td>307.0</td>\n",
       "      <td>5.0</td>\n",
       "      <td>9.0</td>\n",
       "    </tr>\n",
       "    <tr>\n",
       "      <th>21</th>\n",
       "      <td>Ezekiel Elliott</td>\n",
       "      <td>65.0</td>\n",
       "      <td>237.0</td>\n",
       "      <td>10.0</td>\n",
       "      <td>205.0</td>\n",
       "      <td>302.0</td>\n",
       "      <td>6.0</td>\n",
       "      <td>6.0</td>\n",
       "    </tr>\n",
       "    <tr>\n",
       "      <th>4</th>\n",
       "      <td>Austin Ekeler</td>\n",
       "      <td>94.0</td>\n",
       "      <td>206.0</td>\n",
       "      <td>12.0</td>\n",
       "      <td>274.0</td>\n",
       "      <td>300.0</td>\n",
       "      <td>7.0</td>\n",
       "      <td>2.0</td>\n",
       "    </tr>\n",
       "    <tr>\n",
       "      <th>45</th>\n",
       "      <td>Dalvin Cook*</td>\n",
       "      <td>49.0</td>\n",
       "      <td>249.0</td>\n",
       "      <td>6.0</td>\n",
       "      <td>172.0</td>\n",
       "      <td>298.0</td>\n",
       "      <td>8.0</td>\n",
       "      <td>15.5</td>\n",
       "    </tr>\n",
       "    <tr>\n",
       "      <th>46</th>\n",
       "      <td>Josh Jacobs</td>\n",
       "      <td>64.0</td>\n",
       "      <td>217.0</td>\n",
       "      <td>9.0</td>\n",
       "      <td>172.0</td>\n",
       "      <td>281.0</td>\n",
       "      <td>9.0</td>\n",
       "      <td>15.5</td>\n",
       "    </tr>\n",
       "    <tr>\n",
       "      <th>68</th>\n",
       "      <td>David Montgomery</td>\n",
       "      <td>51.0</td>\n",
       "      <td>225.0</td>\n",
       "      <td>7.0</td>\n",
       "      <td>153.0</td>\n",
       "      <td>276.0</td>\n",
       "      <td>10.0</td>\n",
       "      <td>20.0</td>\n",
       "    </tr>\n",
       "  </tbody>\n",
       "</table>\n",
       "</div>"
      ],
      "text/plain": [
       "               Player   Tgt  RushingAtt  RushingTD  FantasyPoints  Usage  \\\n",
       "13      Najee Harris*  94.0       307.0        7.0          227.0  401.0   \n",
       "0   Jonathan Taylor*+  51.0       332.0       18.0          333.0  383.0   \n",
       "10         Joe Mixon*  48.0       292.0       13.0          246.0  340.0   \n",
       "32     Antonio Gibson  52.0       258.0        7.0          187.0  310.0   \n",
       "31      Alvin Kamara*  67.0       240.0        4.0          188.0  307.0   \n",
       "21    Ezekiel Elliott  65.0       237.0       10.0          205.0  302.0   \n",
       "4       Austin Ekeler  94.0       206.0       12.0          274.0  300.0   \n",
       "45       Dalvin Cook*  49.0       249.0        6.0          172.0  298.0   \n",
       "46        Josh Jacobs  64.0       217.0        9.0          172.0  281.0   \n",
       "68   David Montgomery  51.0       225.0        7.0          153.0  276.0   \n",
       "\n",
       "    UsageRank  FantasyPointsRank  \n",
       "13        1.0                4.0  \n",
       "0         2.0                1.0  \n",
       "10        3.0                3.0  \n",
       "32        4.0               10.5  \n",
       "31        5.0                9.0  \n",
       "21        6.0                6.0  \n",
       "4         7.0                2.0  \n",
       "45        8.0               15.5  \n",
       "46        9.0               15.5  \n",
       "68       10.0               20.0  "
      ]
     },
     "execution_count": 22,
     "metadata": {},
     "output_type": "execute_result"
    }
   ],
   "source": [
    "# Ranking the Usage Column\n",
    "rb_df['UsageRank'] = rb_df['Usage'].rank(ascending=False)\n",
    "\n",
    "rb_df['FantasyPointsRank'] = rb_df['FantasyPoints'].rank(ascending=False)\n",
    "\n",
    "rb_df.sort_values(by='UsageRank').head(10)"
   ]
  },
  {
   "cell_type": "code",
   "execution_count": 23,
   "id": "418a95c5",
   "metadata": {},
   "outputs": [
    {
     "data": {
      "text/plain": [
       "<matplotlib.axes._subplots.AxesSubplot at 0x23b6f48cc08>"
      ]
     },
     "execution_count": 23,
     "metadata": {},
     "output_type": "execute_result"
    },
    {
     "data": {
      "image/png": "[encoded data removed]",
      "text/plain": [
       "<Figure size 432x288 with 1 Axes>"
      ]
     },
     "metadata": {},
     "output_type": "display_data"
    }
   ],
   "source": [
    "# Basic Plotting \n",
    "from matplotlib import pyplot as plt\n",
    "\n",
    "plt.style.use('ggplot')\n",
    "\n",
    "rb_df.plot(x='Usage', y='FantasyPoints', kind='scatter')"
   ]
  },
  {
   "cell_type": "markdown",
   "id": "18e9ad6d",
   "metadata": {},
   "source": [
    "# 2021 Wide Receiver Data"
   ]
  },
  {
   "cell_type": "code",
   "execution_count": 10,
   "id": "df00a4b7",
   "metadata": {},
   "outputs": [],
   "source": [
    "# Creating Wide Reciever DF \n",
    "wr_df = df.loc[df['Pos'] == 'WR', ['Player', 'Tgt', 'Rec', 'ReceivingYds', 'FantasyPoints']]\n",
    "wr_df['Usage'] = df['Tgt'] + df['Rec']"
   ]
  },
  {
   "cell_type": "code",
   "execution_count": 11,
   "id": "b3dcf569",
   "metadata": {},
   "outputs": [
    {
     "data": {
      "text/html": [
       "<div>\n",
       "<style scoped>\n",
       "    .dataframe tbody tr th:only-of-type {\n",
       "        vertical-align: middle;\n",
       "    }\n",
       "\n",
       "    .dataframe tbody tr th {\n",
       "        vertical-align: top;\n",
       "    }\n",
       "\n",
       "    .dataframe thead th {\n",
       "        text-align: right;\n",
       "    }\n",
       "</style>\n",
       "<table border=\"1\" class=\"dataframe\">\n",
       "  <thead>\n",
       "    <tr style=\"text-align: right;\">\n",
       "      <th></th>\n",
       "      <th>Player</th>\n",
       "      <th>Tgt</th>\n",
       "      <th>Rec</th>\n",
       "      <th>ReceivingYds</th>\n",
       "      <th>FantasyPoints</th>\n",
       "      <th>Usage</th>\n",
       "    </tr>\n",
       "  </thead>\n",
       "  <tbody>\n",
       "    <tr>\n",
       "      <th>1</th>\n",
       "      <td>Cooper Kupp*+</td>\n",
       "      <td>191.0</td>\n",
       "      <td>145.0</td>\n",
       "      <td>1947.0</td>\n",
       "      <td>295.0</td>\n",
       "      <td>336.0</td>\n",
       "    </tr>\n",
       "    <tr>\n",
       "      <th>2</th>\n",
       "      <td>Deebo Samuel*+</td>\n",
       "      <td>121.0</td>\n",
       "      <td>77.0</td>\n",
       "      <td>1405.0</td>\n",
       "      <td>262.0</td>\n",
       "      <td>198.0</td>\n",
       "    </tr>\n",
       "    <tr>\n",
       "      <th>8</th>\n",
       "      <td>Ja'Marr Chase*</td>\n",
       "      <td>128.0</td>\n",
       "      <td>81.0</td>\n",
       "      <td>1455.0</td>\n",
       "      <td>224.0</td>\n",
       "      <td>209.0</td>\n",
       "    </tr>\n",
       "    <tr>\n",
       "      <th>9</th>\n",
       "      <td>Justin Jefferson*</td>\n",
       "      <td>167.0</td>\n",
       "      <td>108.0</td>\n",
       "      <td>1616.0</td>\n",
       "      <td>222.0</td>\n",
       "      <td>275.0</td>\n",
       "    </tr>\n",
       "    <tr>\n",
       "      <th>11</th>\n",
       "      <td>Davante Adams*+</td>\n",
       "      <td>169.0</td>\n",
       "      <td>123.0</td>\n",
       "      <td>1553.0</td>\n",
       "      <td>221.0</td>\n",
       "      <td>292.0</td>\n",
       "    </tr>\n",
       "    <tr>\n",
       "      <th>16</th>\n",
       "      <td>Mike Evans*</td>\n",
       "      <td>114.0</td>\n",
       "      <td>74.0</td>\n",
       "      <td>1035.0</td>\n",
       "      <td>189.0</td>\n",
       "      <td>188.0</td>\n",
       "    </tr>\n",
       "    <tr>\n",
       "      <th>18</th>\n",
       "      <td>Tyreek Hill*</td>\n",
       "      <td>159.0</td>\n",
       "      <td>111.0</td>\n",
       "      <td>1239.0</td>\n",
       "      <td>186.0</td>\n",
       "      <td>270.0</td>\n",
       "    </tr>\n",
       "    <tr>\n",
       "      <th>20</th>\n",
       "      <td>Stefon Diggs*</td>\n",
       "      <td>164.0</td>\n",
       "      <td>103.0</td>\n",
       "      <td>1225.0</td>\n",
       "      <td>183.0</td>\n",
       "      <td>267.0</td>\n",
       "    </tr>\n",
       "    <tr>\n",
       "      <th>24</th>\n",
       "      <td>Mike Williams</td>\n",
       "      <td>129.0</td>\n",
       "      <td>76.0</td>\n",
       "      <td>1146.0</td>\n",
       "      <td>171.0</td>\n",
       "      <td>205.0</td>\n",
       "    </tr>\n",
       "    <tr>\n",
       "      <th>25</th>\n",
       "      <td>D.K. Metcalf</td>\n",
       "      <td>129.0</td>\n",
       "      <td>75.0</td>\n",
       "      <td>967.0</td>\n",
       "      <td>169.0</td>\n",
       "      <td>204.0</td>\n",
       "    </tr>\n",
       "    <tr>\n",
       "      <th>26</th>\n",
       "      <td>Tyler Lockett</td>\n",
       "      <td>107.0</td>\n",
       "      <td>73.0</td>\n",
       "      <td>1175.0</td>\n",
       "      <td>168.0</td>\n",
       "      <td>180.0</td>\n",
       "    </tr>\n",
       "    <tr>\n",
       "      <th>29</th>\n",
       "      <td>Diontae Johnson*</td>\n",
       "      <td>169.0</td>\n",
       "      <td>107.0</td>\n",
       "      <td>1161.0</td>\n",
       "      <td>167.0</td>\n",
       "      <td>276.0</td>\n",
       "    </tr>\n",
       "    <tr>\n",
       "      <th>37</th>\n",
       "      <td>Hunter Renfrow*</td>\n",
       "      <td>128.0</td>\n",
       "      <td>103.0</td>\n",
       "      <td>1038.0</td>\n",
       "      <td>156.0</td>\n",
       "      <td>231.0</td>\n",
       "    </tr>\n",
       "    <tr>\n",
       "      <th>38</th>\n",
       "      <td>CeeDee Lamb*</td>\n",
       "      <td>120.0</td>\n",
       "      <td>79.0</td>\n",
       "      <td>1102.0</td>\n",
       "      <td>154.0</td>\n",
       "      <td>199.0</td>\n",
       "    </tr>\n",
       "    <tr>\n",
       "      <th>42</th>\n",
       "      <td>Keenan Allen*</td>\n",
       "      <td>157.0</td>\n",
       "      <td>106.0</td>\n",
       "      <td>1138.0</td>\n",
       "      <td>152.0</td>\n",
       "      <td>263.0</td>\n",
       "    </tr>\n",
       "    <tr>\n",
       "      <th>44</th>\n",
       "      <td>Michael Pittman Jr.</td>\n",
       "      <td>129.0</td>\n",
       "      <td>88.0</td>\n",
       "      <td>1082.0</td>\n",
       "      <td>151.0</td>\n",
       "      <td>217.0</td>\n",
       "    </tr>\n",
       "    <tr>\n",
       "      <th>48</th>\n",
       "      <td>Tee Higgins</td>\n",
       "      <td>110.0</td>\n",
       "      <td>74.0</td>\n",
       "      <td>1091.0</td>\n",
       "      <td>145.0</td>\n",
       "      <td>184.0</td>\n",
       "    </tr>\n",
       "    <tr>\n",
       "      <th>50</th>\n",
       "      <td>D.J. Moore</td>\n",
       "      <td>163.0</td>\n",
       "      <td>93.0</td>\n",
       "      <td>1157.0</td>\n",
       "      <td>145.0</td>\n",
       "      <td>256.0</td>\n",
       "    </tr>\n",
       "    <tr>\n",
       "      <th>51</th>\n",
       "      <td>Chris Godwin</td>\n",
       "      <td>127.0</td>\n",
       "      <td>98.0</td>\n",
       "      <td>1103.0</td>\n",
       "      <td>144.0</td>\n",
       "      <td>225.0</td>\n",
       "    </tr>\n",
       "    <tr>\n",
       "      <th>54</th>\n",
       "      <td>Jaylen Waddle</td>\n",
       "      <td>140.0</td>\n",
       "      <td>104.0</td>\n",
       "      <td>1015.0</td>\n",
       "      <td>142.0</td>\n",
       "      <td>244.0</td>\n",
       "    </tr>\n",
       "  </tbody>\n",
       "</table>\n",
       "</div>"
      ],
      "text/plain": [
       "                 Player    Tgt    Rec  ReceivingYds  FantasyPoints  Usage\n",
       "1         Cooper Kupp*+  191.0  145.0        1947.0          295.0  336.0\n",
       "2        Deebo Samuel*+  121.0   77.0        1405.0          262.0  198.0\n",
       "8        Ja'Marr Chase*  128.0   81.0        1455.0          224.0  209.0\n",
       "9     Justin Jefferson*  167.0  108.0        1616.0          222.0  275.0\n",
       "11      Davante Adams*+  169.0  123.0        1553.0          221.0  292.0\n",
       "16          Mike Evans*  114.0   74.0        1035.0          189.0  188.0\n",
       "18         Tyreek Hill*  159.0  111.0        1239.0          186.0  270.0\n",
       "20        Stefon Diggs*  164.0  103.0        1225.0          183.0  267.0\n",
       "24        Mike Williams  129.0   76.0        1146.0          171.0  205.0\n",
       "25         D.K. Metcalf  129.0   75.0         967.0          169.0  204.0\n",
       "26        Tyler Lockett  107.0   73.0        1175.0          168.0  180.0\n",
       "29     Diontae Johnson*  169.0  107.0        1161.0          167.0  276.0\n",
       "37      Hunter Renfrow*  128.0  103.0        1038.0          156.0  231.0\n",
       "38         CeeDee Lamb*  120.0   79.0        1102.0          154.0  199.0\n",
       "42        Keenan Allen*  157.0  106.0        1138.0          152.0  263.0\n",
       "44  Michael Pittman Jr.  129.0   88.0        1082.0          151.0  217.0\n",
       "48          Tee Higgins  110.0   74.0        1091.0          145.0  184.0\n",
       "50           D.J. Moore  163.0   93.0        1157.0          145.0  256.0\n",
       "51         Chris Godwin  127.0   98.0        1103.0          144.0  225.0\n",
       "54        Jaylen Waddle  140.0  104.0        1015.0          142.0  244.0"
      ]
     },
     "execution_count": 11,
     "metadata": {},
     "output_type": "execute_result"
    }
   ],
   "source": [
    "wr_df.head(20)"
   ]
  },
  {
   "cell_type": "code",
   "execution_count": 12,
   "id": "6064bf75",
   "metadata": {},
   "outputs": [
    {
     "data": {
      "text/html": [
       "<div>\n",
       "<style scoped>\n",
       "    .dataframe tbody tr th:only-of-type {\n",
       "        vertical-align: middle;\n",
       "    }\n",
       "\n",
       "    .dataframe tbody tr th {\n",
       "        vertical-align: top;\n",
       "    }\n",
       "\n",
       "    .dataframe thead th {\n",
       "        text-align: right;\n",
       "    }\n",
       "</style>\n",
       "<table border=\"1\" class=\"dataframe\">\n",
       "  <thead>\n",
       "    <tr style=\"text-align: right;\">\n",
       "      <th></th>\n",
       "      <th>Player</th>\n",
       "      <th>Tgt</th>\n",
       "      <th>Rec</th>\n",
       "      <th>ReceivingYds</th>\n",
       "      <th>FantasyPoints</th>\n",
       "      <th>Usage</th>\n",
       "      <th>UsageRank</th>\n",
       "      <th>FantasyPointsRank</th>\n",
       "    </tr>\n",
       "  </thead>\n",
       "  <tbody>\n",
       "    <tr>\n",
       "      <th>1</th>\n",
       "      <td>Cooper Kupp*+</td>\n",
       "      <td>191.0</td>\n",
       "      <td>145.0</td>\n",
       "      <td>1947.0</td>\n",
       "      <td>295.0</td>\n",
       "      <td>336.0</td>\n",
       "      <td>1.0</td>\n",
       "      <td>1.0</td>\n",
       "    </tr>\n",
       "    <tr>\n",
       "      <th>11</th>\n",
       "      <td>Davante Adams*+</td>\n",
       "      <td>169.0</td>\n",
       "      <td>123.0</td>\n",
       "      <td>1553.0</td>\n",
       "      <td>221.0</td>\n",
       "      <td>292.0</td>\n",
       "      <td>2.0</td>\n",
       "      <td>5.0</td>\n",
       "    </tr>\n",
       "    <tr>\n",
       "      <th>29</th>\n",
       "      <td>Diontae Johnson*</td>\n",
       "      <td>169.0</td>\n",
       "      <td>107.0</td>\n",
       "      <td>1161.0</td>\n",
       "      <td>167.0</td>\n",
       "      <td>276.0</td>\n",
       "      <td>3.0</td>\n",
       "      <td>12.0</td>\n",
       "    </tr>\n",
       "    <tr>\n",
       "      <th>9</th>\n",
       "      <td>Justin Jefferson*</td>\n",
       "      <td>167.0</td>\n",
       "      <td>108.0</td>\n",
       "      <td>1616.0</td>\n",
       "      <td>222.0</td>\n",
       "      <td>275.0</td>\n",
       "      <td>4.0</td>\n",
       "      <td>4.0</td>\n",
       "    </tr>\n",
       "    <tr>\n",
       "      <th>18</th>\n",
       "      <td>Tyreek Hill*</td>\n",
       "      <td>159.0</td>\n",
       "      <td>111.0</td>\n",
       "      <td>1239.0</td>\n",
       "      <td>186.0</td>\n",
       "      <td>270.0</td>\n",
       "      <td>5.0</td>\n",
       "      <td>7.0</td>\n",
       "    </tr>\n",
       "    <tr>\n",
       "      <th>20</th>\n",
       "      <td>Stefon Diggs*</td>\n",
       "      <td>164.0</td>\n",
       "      <td>103.0</td>\n",
       "      <td>1225.0</td>\n",
       "      <td>183.0</td>\n",
       "      <td>267.0</td>\n",
       "      <td>6.0</td>\n",
       "      <td>8.0</td>\n",
       "    </tr>\n",
       "    <tr>\n",
       "      <th>42</th>\n",
       "      <td>Keenan Allen*</td>\n",
       "      <td>157.0</td>\n",
       "      <td>106.0</td>\n",
       "      <td>1138.0</td>\n",
       "      <td>152.0</td>\n",
       "      <td>263.0</td>\n",
       "      <td>7.0</td>\n",
       "      <td>15.0</td>\n",
       "    </tr>\n",
       "    <tr>\n",
       "      <th>50</th>\n",
       "      <td>D.J. Moore</td>\n",
       "      <td>163.0</td>\n",
       "      <td>93.0</td>\n",
       "      <td>1157.0</td>\n",
       "      <td>145.0</td>\n",
       "      <td>256.0</td>\n",
       "      <td>8.0</td>\n",
       "      <td>17.5</td>\n",
       "    </tr>\n",
       "    <tr>\n",
       "      <th>54</th>\n",
       "      <td>Jaylen Waddle</td>\n",
       "      <td>140.0</td>\n",
       "      <td>104.0</td>\n",
       "      <td>1015.0</td>\n",
       "      <td>142.0</td>\n",
       "      <td>244.0</td>\n",
       "      <td>9.0</td>\n",
       "      <td>20.5</td>\n",
       "    </tr>\n",
       "    <tr>\n",
       "      <th>63</th>\n",
       "      <td>Marquise Brown</td>\n",
       "      <td>146.0</td>\n",
       "      <td>91.0</td>\n",
       "      <td>1008.0</td>\n",
       "      <td>135.0</td>\n",
       "      <td>237.0</td>\n",
       "      <td>10.0</td>\n",
       "      <td>25.5</td>\n",
       "    </tr>\n",
       "  </tbody>\n",
       "</table>\n",
       "</div>"
      ],
      "text/plain": [
       "               Player    Tgt    Rec  ReceivingYds  FantasyPoints  Usage  \\\n",
       "1       Cooper Kupp*+  191.0  145.0        1947.0          295.0  336.0   \n",
       "11    Davante Adams*+  169.0  123.0        1553.0          221.0  292.0   \n",
       "29   Diontae Johnson*  169.0  107.0        1161.0          167.0  276.0   \n",
       "9   Justin Jefferson*  167.0  108.0        1616.0          222.0  275.0   \n",
       "18       Tyreek Hill*  159.0  111.0        1239.0          186.0  270.0   \n",
       "20      Stefon Diggs*  164.0  103.0        1225.0          183.0  267.0   \n",
       "42      Keenan Allen*  157.0  106.0        1138.0          152.0  263.0   \n",
       "50         D.J. Moore  163.0   93.0        1157.0          145.0  256.0   \n",
       "54      Jaylen Waddle  140.0  104.0        1015.0          142.0  244.0   \n",
       "63     Marquise Brown  146.0   91.0        1008.0          135.0  237.0   \n",
       "\n",
       "    UsageRank  FantasyPointsRank  \n",
       "1         1.0                1.0  \n",
       "11        2.0                5.0  \n",
       "29        3.0               12.0  \n",
       "9         4.0                4.0  \n",
       "18        5.0                7.0  \n",
       "20        6.0                8.0  \n",
       "42        7.0               15.0  \n",
       "50        8.0               17.5  \n",
       "54        9.0               20.5  \n",
       "63       10.0               25.5  "
      ]
     },
     "execution_count": 12,
     "metadata": {},
     "output_type": "execute_result"
    }
   ],
   "source": [
    "wr_df['UsageRank'] = wr_df['Usage'].rank(ascending=False)\n",
    "\n",
    "wr_df['FantasyPointsRank'] = wr_df['FantasyPoints'].rank(ascending=False)\n",
    "\n",
    "wr_df.sort_values(by='UsageRank').head(10)"
   ]
  },
  {
   "cell_type": "code",
   "execution_count": 13,
   "id": "2cd0e196",
   "metadata": {},
   "outputs": [
    {
     "data": {
      "text/plain": [
       "<matplotlib.axes._subplots.AxesSubplot at 0x23b6d61b1c8>"
      ]
     },
     "execution_count": 13,
     "metadata": {},
     "output_type": "execute_result"
    },
    {
     "data": {
      "image/png": "[encoded data removed]",
      "text/plain": [
       "<Figure size 432x288 with 1 Axes>"
      ]
     },
     "metadata": {},
     "output_type": "display_data"
    }
   ],
   "source": [
    "from matplotlib import pyplot as plt\n",
    "\n",
    "plt.style.use('ggplot')\n",
    "\n",
    "wr_df.plot(x='Usage', y='FantasyPoints', kind='scatter')"
   ]
  },
  {
   "cell_type": "markdown",
   "id": "0ebea0e7",
   "metadata": {},
   "source": [
    "# 2021 Tight End Data "
   ]
  },
  {
   "cell_type": "code",
   "execution_count": 14,
   "id": "9cb236aa",
   "metadata": {},
   "outputs": [],
   "source": [
    "# RBs by usage // Creating separate Running Back DF \n",
    "TE_df = df.loc[df['Pos'] == 'TE', ['Player', 'Tgt', 'Rec', 'ReceivingYds', 'FantasyPoints']]\n",
    "TE_df['Usage'] = df['Tgt'] + df['Rec']"
   ]
  },
  {
   "cell_type": "code",
   "execution_count": 15,
   "id": "53f0269d",
   "metadata": {},
   "outputs": [
    {
     "data": {
      "text/html": [
       "<div>\n",
       "<style scoped>\n",
       "    .dataframe tbody tr th:only-of-type {\n",
       "        vertical-align: middle;\n",
       "    }\n",
       "\n",
       "    .dataframe tbody tr th {\n",
       "        vertical-align: top;\n",
       "    }\n",
       "\n",
       "    .dataframe thead th {\n",
       "        text-align: right;\n",
       "    }\n",
       "</style>\n",
       "<table border=\"1\" class=\"dataframe\">\n",
       "  <thead>\n",
       "    <tr style=\"text-align: right;\">\n",
       "      <th></th>\n",
       "      <th>Player</th>\n",
       "      <th>Tgt</th>\n",
       "      <th>Rec</th>\n",
       "      <th>ReceivingYds</th>\n",
       "      <th>FantasyPoints</th>\n",
       "      <th>Usage</th>\n",
       "    </tr>\n",
       "  </thead>\n",
       "  <tbody>\n",
       "    <tr>\n",
       "      <th>7</th>\n",
       "      <td>Mark Andrews*+</td>\n",
       "      <td>153.0</td>\n",
       "      <td>107.0</td>\n",
       "      <td>1361.0</td>\n",
       "      <td>194.0</td>\n",
       "      <td>260.0</td>\n",
       "    </tr>\n",
       "    <tr>\n",
       "      <th>14</th>\n",
       "      <td>Travis Kelce*</td>\n",
       "      <td>134.0</td>\n",
       "      <td>92.0</td>\n",
       "      <td>1125.0</td>\n",
       "      <td>171.0</td>\n",
       "      <td>226.0</td>\n",
       "    </tr>\n",
       "    <tr>\n",
       "      <th>34</th>\n",
       "      <td>Dalton Schultz</td>\n",
       "      <td>104.0</td>\n",
       "      <td>78.0</td>\n",
       "      <td>808.0</td>\n",
       "      <td>131.0</td>\n",
       "      <td>182.0</td>\n",
       "    </tr>\n",
       "    <tr>\n",
       "      <th>36</th>\n",
       "      <td>George Kittle*</td>\n",
       "      <td>94.0</td>\n",
       "      <td>71.0</td>\n",
       "      <td>910.0</td>\n",
       "      <td>127.0</td>\n",
       "      <td>165.0</td>\n",
       "    </tr>\n",
       "    <tr>\n",
       "      <th>47</th>\n",
       "      <td>Rob Gronkowski</td>\n",
       "      <td>89.0</td>\n",
       "      <td>55.0</td>\n",
       "      <td>802.0</td>\n",
       "      <td>116.0</td>\n",
       "      <td>144.0</td>\n",
       "    </tr>\n",
       "    <tr>\n",
       "      <th>49</th>\n",
       "      <td>Dawson Knox</td>\n",
       "      <td>71.0</td>\n",
       "      <td>49.0</td>\n",
       "      <td>587.0</td>\n",
       "      <td>115.0</td>\n",
       "      <td>120.0</td>\n",
       "    </tr>\n",
       "    <tr>\n",
       "      <th>52</th>\n",
       "      <td>Hunter Henry</td>\n",
       "      <td>75.0</td>\n",
       "      <td>50.0</td>\n",
       "      <td>603.0</td>\n",
       "      <td>114.0</td>\n",
       "      <td>125.0</td>\n",
       "    </tr>\n",
       "    <tr>\n",
       "      <th>56</th>\n",
       "      <td>Dallas Goedert</td>\n",
       "      <td>76.0</td>\n",
       "      <td>56.0</td>\n",
       "      <td>830.0</td>\n",
       "      <td>109.0</td>\n",
       "      <td>132.0</td>\n",
       "    </tr>\n",
       "    <tr>\n",
       "      <th>58</th>\n",
       "      <td>Kyle Pitts*</td>\n",
       "      <td>110.0</td>\n",
       "      <td>68.0</td>\n",
       "      <td>1026.0</td>\n",
       "      <td>109.0</td>\n",
       "      <td>178.0</td>\n",
       "    </tr>\n",
       "    <tr>\n",
       "      <th>61</th>\n",
       "      <td>Zach Ertz</td>\n",
       "      <td>112.0</td>\n",
       "      <td>74.0</td>\n",
       "      <td>763.0</td>\n",
       "      <td>107.0</td>\n",
       "      <td>186.0</td>\n",
       "    </tr>\n",
       "  </tbody>\n",
       "</table>\n",
       "</div>"
      ],
      "text/plain": [
       "            Player    Tgt    Rec  ReceivingYds  FantasyPoints  Usage\n",
       "7   Mark Andrews*+  153.0  107.0        1361.0          194.0  260.0\n",
       "14   Travis Kelce*  134.0   92.0        1125.0          171.0  226.0\n",
       "34  Dalton Schultz  104.0   78.0         808.0          131.0  182.0\n",
       "36  George Kittle*   94.0   71.0         910.0          127.0  165.0\n",
       "47  Rob Gronkowski   89.0   55.0         802.0          116.0  144.0\n",
       "49     Dawson Knox   71.0   49.0         587.0          115.0  120.0\n",
       "52    Hunter Henry   75.0   50.0         603.0          114.0  125.0\n",
       "56  Dallas Goedert   76.0   56.0         830.0          109.0  132.0\n",
       "58     Kyle Pitts*  110.0   68.0        1026.0          109.0  178.0\n",
       "61       Zach Ertz  112.0   74.0         763.0          107.0  186.0"
      ]
     },
     "execution_count": 15,
     "metadata": {},
     "output_type": "execute_result"
    }
   ],
   "source": [
    "TE_df.head(10)"
   ]
  },
  {
   "cell_type": "code",
   "execution_count": 16,
   "id": "b193f87d",
   "metadata": {},
   "outputs": [
    {
     "data": {
      "text/html": [
       "<div>\n",
       "<style scoped>\n",
       "    .dataframe tbody tr th:only-of-type {\n",
       "        vertical-align: middle;\n",
       "    }\n",
       "\n",
       "    .dataframe tbody tr th {\n",
       "        vertical-align: top;\n",
       "    }\n",
       "\n",
       "    .dataframe thead th {\n",
       "        text-align: right;\n",
       "    }\n",
       "</style>\n",
       "<table border=\"1\" class=\"dataframe\">\n",
       "  <thead>\n",
       "    <tr style=\"text-align: right;\">\n",
       "      <th></th>\n",
       "      <th>Player</th>\n",
       "      <th>Tgt</th>\n",
       "      <th>Rec</th>\n",
       "      <th>ReceivingYds</th>\n",
       "      <th>FantasyPoints</th>\n",
       "      <th>Usage</th>\n",
       "      <th>UsageRank</th>\n",
       "      <th>FantasyPointsRank</th>\n",
       "    </tr>\n",
       "  </thead>\n",
       "  <tbody>\n",
       "    <tr>\n",
       "      <th>7</th>\n",
       "      <td>Mark Andrews*+</td>\n",
       "      <td>153.0</td>\n",
       "      <td>107.0</td>\n",
       "      <td>1361.0</td>\n",
       "      <td>194.0</td>\n",
       "      <td>260.0</td>\n",
       "      <td>1.0</td>\n",
       "      <td>1.0</td>\n",
       "    </tr>\n",
       "    <tr>\n",
       "      <th>14</th>\n",
       "      <td>Travis Kelce*</td>\n",
       "      <td>134.0</td>\n",
       "      <td>92.0</td>\n",
       "      <td>1125.0</td>\n",
       "      <td>171.0</td>\n",
       "      <td>226.0</td>\n",
       "      <td>2.0</td>\n",
       "      <td>2.0</td>\n",
       "    </tr>\n",
       "    <tr>\n",
       "      <th>61</th>\n",
       "      <td>Zach Ertz</td>\n",
       "      <td>112.0</td>\n",
       "      <td>74.0</td>\n",
       "      <td>763.0</td>\n",
       "      <td>107.0</td>\n",
       "      <td>186.0</td>\n",
       "      <td>3.0</td>\n",
       "      <td>10.0</td>\n",
       "    </tr>\n",
       "    <tr>\n",
       "      <th>73</th>\n",
       "      <td>Mike Gesicki</td>\n",
       "      <td>112.0</td>\n",
       "      <td>73.0</td>\n",
       "      <td>780.0</td>\n",
       "      <td>92.0</td>\n",
       "      <td>185.0</td>\n",
       "      <td>4.0</td>\n",
       "      <td>11.5</td>\n",
       "    </tr>\n",
       "    <tr>\n",
       "      <th>34</th>\n",
       "      <td>Dalton Schultz</td>\n",
       "      <td>104.0</td>\n",
       "      <td>78.0</td>\n",
       "      <td>808.0</td>\n",
       "      <td>131.0</td>\n",
       "      <td>182.0</td>\n",
       "      <td>5.0</td>\n",
       "      <td>3.0</td>\n",
       "    </tr>\n",
       "    <tr>\n",
       "      <th>58</th>\n",
       "      <td>Kyle Pitts*</td>\n",
       "      <td>110.0</td>\n",
       "      <td>68.0</td>\n",
       "      <td>1026.0</td>\n",
       "      <td>109.0</td>\n",
       "      <td>178.0</td>\n",
       "      <td>6.0</td>\n",
       "      <td>8.5</td>\n",
       "    </tr>\n",
       "    <tr>\n",
       "      <th>36</th>\n",
       "      <td>George Kittle*</td>\n",
       "      <td>94.0</td>\n",
       "      <td>71.0</td>\n",
       "      <td>910.0</td>\n",
       "      <td>127.0</td>\n",
       "      <td>165.0</td>\n",
       "      <td>7.0</td>\n",
       "      <td>4.0</td>\n",
       "    </tr>\n",
       "    <tr>\n",
       "      <th>138</th>\n",
       "      <td>Noah Fant</td>\n",
       "      <td>90.0</td>\n",
       "      <td>68.0</td>\n",
       "      <td>670.0</td>\n",
       "      <td>91.0</td>\n",
       "      <td>158.0</td>\n",
       "      <td>8.0</td>\n",
       "      <td>13.0</td>\n",
       "    </tr>\n",
       "    <tr>\n",
       "      <th>196</th>\n",
       "      <td>Cole Kmet</td>\n",
       "      <td>93.0</td>\n",
       "      <td>60.0</td>\n",
       "      <td>612.0</td>\n",
       "      <td>61.0</td>\n",
       "      <td>153.0</td>\n",
       "      <td>9.0</td>\n",
       "      <td>22.0</td>\n",
       "    </tr>\n",
       "    <tr>\n",
       "      <th>169</th>\n",
       "      <td>Darren Waller</td>\n",
       "      <td>93.0</td>\n",
       "      <td>55.0</td>\n",
       "      <td>665.0</td>\n",
       "      <td>79.0</td>\n",
       "      <td>148.0</td>\n",
       "      <td>10.5</td>\n",
       "      <td>17.5</td>\n",
       "    </tr>\n",
       "  </tbody>\n",
       "</table>\n",
       "</div>"
      ],
      "text/plain": [
       "             Player    Tgt    Rec  ReceivingYds  FantasyPoints  Usage  \\\n",
       "7    Mark Andrews*+  153.0  107.0        1361.0          194.0  260.0   \n",
       "14    Travis Kelce*  134.0   92.0        1125.0          171.0  226.0   \n",
       "61        Zach Ertz  112.0   74.0         763.0          107.0  186.0   \n",
       "73     Mike Gesicki  112.0   73.0         780.0           92.0  185.0   \n",
       "34   Dalton Schultz  104.0   78.0         808.0          131.0  182.0   \n",
       "58      Kyle Pitts*  110.0   68.0        1026.0          109.0  178.0   \n",
       "36   George Kittle*   94.0   71.0         910.0          127.0  165.0   \n",
       "138       Noah Fant   90.0   68.0         670.0           91.0  158.0   \n",
       "196       Cole Kmet   93.0   60.0         612.0           61.0  153.0   \n",
       "169   Darren Waller   93.0   55.0         665.0           79.0  148.0   \n",
       "\n",
       "     UsageRank  FantasyPointsRank  \n",
       "7          1.0                1.0  \n",
       "14         2.0                2.0  \n",
       "61         3.0               10.0  \n",
       "73         4.0               11.5  \n",
       "34         5.0                3.0  \n",
       "58         6.0                8.5  \n",
       "36         7.0                4.0  \n",
       "138        8.0               13.0  \n",
       "196        9.0               22.0  \n",
       "169       10.5               17.5  "
      ]
     },
     "execution_count": 16,
     "metadata": {},
     "output_type": "execute_result"
    }
   ],
   "source": [
    "# Ranking the Usage Column\n",
    "TE_df['UsageRank'] = TE_df['Usage'].rank(ascending=False)\n",
    "\n",
    "TE_df['FantasyPointsRank'] = TE_df['FantasyPoints'].rank(ascending=False)\n",
    "\n",
    "TE_df.sort_values(by='UsageRank').head(10)"
   ]
  },
  {
   "cell_type": "code",
   "execution_count": 17,
   "id": "7836b770",
   "metadata": {},
   "outputs": [
    {
     "data": {
      "text/plain": [
       "<matplotlib.axes._subplots.AxesSubplot at 0x23b6d6a27c8>"
      ]
     },
     "execution_count": 17,
     "metadata": {},
     "output_type": "execute_result"
    },
    {
     "data": {
      "image/png": "[encoded data removed]",
      "text/plain": [
       "<Figure size 432x288 with 1 Axes>"
      ]
     },
     "metadata": {},
     "output_type": "display_data"
    }
   ],
   "source": [
    "from matplotlib import pyplot as plt\n",
    "\n",
    "plt.style.use('ggplot')\n",
    "\n",
    "TE_df.plot(x='Usage', y='FantasyPoints', kind='scatter')"
   ]
  },
  {
   "cell_type": "code",
   "execution_count": 36,
   "id": "ad001ace",
   "metadata": {},
   "outputs": [
    {
     "data": {
      "text/plain": [
       "<matplotlib.axes._subplots.AxesSubplot at 0x23b6f8b4d88>"
      ]
     },
     "execution_count": 36,
     "metadata": {},
     "output_type": "execute_result"
    },
    {
     "data": {
      "image/png": "[encoded data removed]",
      "text/plain": [
       "<Figure size 432x288 with 1 Axes>"
      ]
     },
     "metadata": {},
     "output_type": "display_data"
    }
   ],
   "source": [
    "from matplotlib import pyplot as plt\n",
    "\n",
    "plt.style.use('ggplot')\n",
    "\n",
    "rb_df.plot(x='Usage', y='Touchdowns', kind='scatter')"
   ]
  },
  {
   "cell_type": "code",
   "execution_count": 34,
   "id": "c4e4ca54",
   "metadata": {},
   "outputs": [
    {
     "data": {
      "application/vnd.plotly.v1+json": {
       "config": {
        "plotlyServerURL": "https://plot.ly"
       },
       "data": [
        {
         "alignmentgroup": "True",
         "customdata": [
          [
           "Jonathan Taylor*+",
           333
          ],
          [
           "Austin Ekeler",
           274
          ],
          [
           "Joe Mixon*",
           246
          ],
          [
           "Najee Harris*",
           227
          ],
          [
           "James Conner*",
           221
          ],
          [
           "Ezekiel Elliott",
           205
          ],
          [
           "Nick Chubb*",
           195
          ],
          [
           "Damien Harris",
           192
          ],
          [
           "Alvin Kamara*",
           188
          ],
          [
           "Antonio Gibson",
           187
          ],
          [
           "Leonard Fournette",
           187
          ],
          [
           "Cordarrelle Patterson",
           183
          ],
          [
           "Aaron Jones",
           177
          ],
          [
           "Derrick Henry",
           175
          ],
          [
           "Dalvin Cook*",
           172
          ],
          [
           "Josh Jacobs",
           172
          ],
          [
           "Melvin Gordon",
           167
          ],
          [
           "Javonte Williams",
           162
          ],
          [
           "Devin Singletary",
           158
          ],
          [
           "David Montgomery",
           153
          ],
          [
           "AJ Dillon",
           152
          ],
          [
           "Darrel Williams",
           149
          ],
          [
           "D'Andre Swift",
           147
          ],
          [
           "Elijah Mitchell",
           146
          ],
          [
           "James Robinson",
           143
          ],
          [
           "Darrell Henderson",
           134
          ],
          [
           "Myles Gaskin",
           125
          ],
          [
           "Sony Michel",
           125
          ],
          [
           "Tony Pollard",
           124
          ],
          [
           "Michael Carter",
           118
          ],
          [
           "Rashaad Penny",
           116
          ],
          [
           "Devonta Freeman",
           113
          ],
          [
           "Chuba Hubbard",
           113
          ],
          [
           "Saquon Barkley",
           108
          ],
          [
           "Devontae Booker",
           104
          ],
          [
           "Rhamondre Stevenson",
           101
          ],
          [
           "Chase Edmonds",
           100
          ],
          [
           "Clyde Edwards-Helaire",
           99
          ],
          [
           "Mike Davis",
           94
          ],
          [
           "Alexander Mattison",
           94
          ],
          [
           "Latavius Murray",
           94
          ],
          [
           "Jamaal Williams",
           94
          ],
          [
           "Christian McCaffrey",
           91
          ],
          [
           "Miles Sanders",
           91
          ],
          [
           "Kenneth Gainwell",
           90
          ],
          [
           "Kareem Hunt",
           88
          ],
          [
           "Boston Scott",
           86
          ],
          [
           "D'Onta Foreman",
           85
          ],
          [
           "D'Ernest Johnson",
           85
          ],
          [
           "J.D. McKissic",
           85
          ],
          [
           "Brandon Bolden",
           83
          ],
          [
           "Ty Johnson",
           83
          ],
          [
           "Mark Ingram",
           82
          ],
          [
           "Zack Moss",
           82
          ],
          [
           "Rex Burkhead",
           79
          ],
          [
           "Kenyan Drake",
           73
          ],
          [
           "Nyheim Hines",
           73
          ],
          [
           "Ronald Jones II",
           69
          ],
          [
           "Khalil Herbert",
           65
          ],
          [
           "Justin Jackson",
           64
          ],
          [
           "Jordan Howard",
           61
          ],
          [
           "Alex Collins",
           60
          ],
          [
           "Samaje Perine",
           56
          ],
          [
           "Duke Johnson",
           55
          ],
          [
           "Dontrell Hilliard",
           54
          ],
          [
           "Ameer Abdullah",
           52
          ]
         ],
         "hovertemplate": "Usage=%{x}<br>Touchdowns=%{y}<br>Player=%{customdata[0]}<br>FantasyPoints=%{customdata[1]}<extra></extra>",
         "legendgroup": "",
         "marker": {
          "color": "#636efa",
          "pattern": {
           "shape": ""
          }
         },
         "name": "",
         "offsetgroup": "",
         "orientation": "h",
         "showlegend": false,
         "textposition": "auto",
         "type": "bar",
         "x": [
          383,
          300,
          340,
          401,
          241,
          302,
          253,
          223,
          307,
          310,
          264,
          222,
          236,
          239,
          298,
          281,
          241,
          256,
          238,
          276,
          224,
          201,
          229,
          227,
          210,
          189,
          236,
          241,
          176,
          202,
          127,
          175,
          209,
          219,
          190,
          151,
          169,
          142,
          196,
          173,
          132,
          181,
          140,
          171,
          118,
          105,
          103,
          144,
          125,
          101,
          93,
          116,
          195,
          128,
          154,
          103,
          113,
          114,
          119,
          93,
          91,
          118,
          86,
          76,
          82,
          104
         ],
         "xaxis": "x",
         "y": [
          20,
          20,
          16,
          10,
          18,
          12,
          9,
          15,
          9,
          10,
          10,
          11,
          10,
          10,
          6,
          9,
          10,
          7,
          8,
          7,
          7,
          8,
          7,
          6,
          8,
          8,
          7,
          5,
          2,
          4,
          6,
          6,
          6,
          4,
          3,
          5,
          2,
          6,
          4,
          4,
          6,
          3,
          2,
          0,
          6,
          5,
          7,
          3,
          3,
          4,
          3,
          4,
          2,
          5,
          3,
          3,
          3,
          4,
          2,
          2,
          3,
          2,
          2,
          3,
          2,
          1
         ],
         "yaxis": "y"
        }
       ],
       "layout": {
        "barmode": "relative",
        "height": 400,
        "legend": {
         "tracegroupgap": 0
        },
        "template": {
         "data": {
          "bar": [
           {
            "error_x": {
             "color": "#2a3f5f"
            },
            "error_y": {
             "color": "#2a3f5f"
            },
            "marker": {
             "line": {
              "color": "#E5ECF6",
              "width": 0.5
             },
             "pattern": {
              "fillmode": "overlay",
              "size": 10,
              "solidity": 0.2
             }
            },
            "type": "bar"
           }
          ],
          "barpolar": [
           {
            "marker": {
             "line": {
              "color": "#E5ECF6",
              "width": 0.5
             },
             "pattern": {
              "fillmode": "overlay",
              "size": 10,
              "solidity": 0.2
             }
            },
            "type": "barpolar"
           }
          ],
          "carpet": [
           {
            "aaxis": {
             "endlinecolor": "#2a3f5f",
             "gridcolor": "white",
             "linecolor": "white",
             "minorgridcolor": "white",
             "startlinecolor": "#2a3f5f"
            },
            "baxis": {
             "endlinecolor": "#2a3f5f",
             "gridcolor": "white",
             "linecolor": "white",
             "minorgridcolor": "white",
             "startlinecolor": "#2a3f5f"
            },
            "type": "carpet"
           }
          ],
          "choropleth": [
           {
            "colorbar": {
             "outlinewidth": 0,
             "ticks": ""
            },
            "type": "choropleth"
           }
          ],
          "contour": [
           {
            "colorbar": {
             "outlinewidth": 0,
             "ticks": ""
            },
            "colorscale": [
             [
              0,
              "#0d0887"
             ],
             [
              0.1111111111111111,
              "#46039f"
             ],
             [
              0.2222222222222222,
              "#7201a8"
             ],
             [
              0.3333333333333333,
              "#9c179e"
             ],
             [
              0.4444444444444444,
              "#bd3786"
             ],
             [
              0.5555555555555556,
              "#d8576b"
             ],
             [
              0.6666666666666666,
              "#ed7953"
             ],
             [
              0.7777777777777778,
              "#fb9f3a"
             ],
             [
              0.8888888888888888,
              "#fdca26"
             ],
             [
              1,
              "#f0f921"
             ]
            ],
            "type": "contour"
           }
          ],
          "contourcarpet": [
           {
            "colorbar": {
             "outlinewidth": 0,
             "ticks": ""
            },
            "type": "contourcarpet"
           }
          ],
          "heatmap": [
           {
            "colorbar": {
             "outlinewidth": 0,
             "ticks": ""
            },
            "colorscale": [
             [
              0,
              "#0d0887"
             ],
             [
              0.1111111111111111,
              "#46039f"
             ],
             [
              0.2222222222222222,
              "#7201a8"
             ],
             [
              0.3333333333333333,
              "#9c179e"
             ],
             [
              0.4444444444444444,
              "#bd3786"
             ],
             [
              0.5555555555555556,
              "#d8576b"
             ],
             [
              0.6666666666666666,
              "#ed7953"
             ],
             [
              0.7777777777777778,
              "#fb9f3a"
             ],
             [
              0.8888888888888888,
              "#fdca26"
             ],
             [
              1,
              "#f0f921"
             ]
            ],
            "type": "heatmap"
           }
          ],
          "heatmapgl": [
           {
            "colorbar": {
             "outlinewidth": 0,
             "ticks": ""
            },
            "colorscale": [
             [
              0,
              "#0d0887"
             ],
             [
              0.1111111111111111,
              "#46039f"
             ],
             [
              0.2222222222222222,
              "#7201a8"
             ],
             [
              0.3333333333333333,
              "#9c179e"
             ],
             [
              0.4444444444444444,
              "#bd3786"
             ],
             [
              0.5555555555555556,
              "#d8576b"
             ],
             [
              0.6666666666666666,
              "#ed7953"
             ],
             [
              0.7777777777777778,
              "#fb9f3a"
             ],
             [
              0.8888888888888888,
              "#fdca26"
             ],
             [
              1,
              "#f0f921"
             ]
            ],
            "type": "heatmapgl"
           }
          ],
          "histogram": [
           {
            "marker": {
             "pattern": {
              "fillmode": "overlay",
              "size": 10,
              "solidity": 0.2
             }
            },
            "type": "histogram"
           }
          ],
          "histogram2d": [
           {
            "colorbar": {
             "outlinewidth": 0,
             "ticks": ""
            },
            "colorscale": [
             [
              0,
              "#0d0887"
             ],
             [
              0.1111111111111111,
              "#46039f"
             ],
             [
              0.2222222222222222,
              "#7201a8"
             ],
             [
              0.3333333333333333,
              "#9c179e"
             ],
             [
              0.4444444444444444,
              "#bd3786"
             ],
             [
              0.5555555555555556,
              "#d8576b"
             ],
             [
              0.6666666666666666,
              "#ed7953"
             ],
             [
              0.7777777777777778,
              "#fb9f3a"
             ],
             [
              0.8888888888888888,
              "#fdca26"
             ],
             [
              1,
              "#f0f921"
             ]
            ],
            "type": "histogram2d"
           }
          ],
          "histogram2dcontour": [
           {
            "colorbar": {
             "outlinewidth": 0,
             "ticks": ""
            },
            "colorscale": [
             [
              0,
              "#0d0887"
             ],
             [
              0.1111111111111111,
              "#46039f"
             ],
             [
              0.2222222222222222,
              "#7201a8"
             ],
             [
              0.3333333333333333,
              "#9c179e"
             ],
             [
              0.4444444444444444,
              "#bd3786"
             ],
             [
              0.5555555555555556,
              "#d8576b"
             ],
             [
              0.6666666666666666,
              "#ed7953"
             ],
             [
              0.7777777777777778,
              "#fb9f3a"
             ],
             [
              0.8888888888888888,
              "#fdca26"
             ],
             [
              1,
              "#f0f921"
             ]
            ],
            "type": "histogram2dcontour"
           }
          ],
          "mesh3d": [
           {
            "colorbar": {
             "outlinewidth": 0,
             "ticks": ""
            },
            "type": "mesh3d"
           }
          ],
          "parcoords": [
           {
            "line": {
             "colorbar": {
              "outlinewidth": 0,
              "ticks": ""
             }
            },
            "type": "parcoords"
           }
          ],
          "pie": [
           {
            "automargin": true,
            "type": "pie"
           }
          ],
          "scatter": [
           {
            "fillpattern": {
             "fillmode": "overlay",
             "size": 10,
             "solidity": 0.2
            },
            "type": "scatter"
           }
          ],
          "scatter3d": [
           {
            "line": {
             "colorbar": {
              "outlinewidth": 0,
              "ticks": ""
             }
            },
            "marker": {
             "colorbar": {
              "outlinewidth": 0,
              "ticks": ""
             }
            },
            "type": "scatter3d"
           }
          ],
          "scattercarpet": [
           {
            "marker": {
             "colorbar": {
              "outlinewidth": 0,
              "ticks": ""
             }
            },
            "type": "scattercarpet"
           }
          ],
          "scattergeo": [
           {
            "marker": {
             "colorbar": {
              "outlinewidth": 0,
              "ticks": ""
             }
            },
            "type": "scattergeo"
           }
          ],
          "scattergl": [
           {
            "marker": {
             "colorbar": {
              "outlinewidth": 0,
              "ticks": ""
             }
            },
            "type": "scattergl"
           }
          ],
          "scattermapbox": [
           {
            "marker": {
             "colorbar": {
              "outlinewidth": 0,
              "ticks": ""
             }
            },
            "type": "scattermapbox"
           }
          ],
          "scatterpolar": [
           {
            "marker": {
             "colorbar": {
              "outlinewidth": 0,
              "ticks": ""
             }
            },
            "type": "scatterpolar"
           }
          ],
          "scatterpolargl": [
           {
            "marker": {
             "colorbar": {
              "outlinewidth": 0,
              "ticks": ""
             }
            },
            "type": "scatterpolargl"
           }
          ],
          "scatterternary": [
           {
            "marker": {
             "colorbar": {
              "outlinewidth": 0,
              "ticks": ""
             }
            },
            "type": "scatterternary"
           }
          ],
          "surface": [
           {
            "colorbar": {
             "outlinewidth": 0,
             "ticks": ""
            },
            "colorscale": [
             [
              0,
              "#0d0887"
             ],
             [
              0.1111111111111111,
              "#46039f"
             ],
             [
              0.2222222222222222,
              "#7201a8"
             ],
             [
              0.3333333333333333,
              "#9c179e"
             ],
             [
              0.4444444444444444,
              "#bd3786"
             ],
             [
              0.5555555555555556,
              "#d8576b"
             ],
             [
              0.6666666666666666,
              "#ed7953"
             ],
             [
              0.7777777777777778,
              "#fb9f3a"
             ],
             [
              0.8888888888888888,
              "#fdca26"
             ],
             [
              1,
              "#f0f921"
             ]
            ],
            "type": "surface"
           }
          ],
          "table": [
           {
            "cells": {
             "fill": {
              "color": "#EBF0F8"
             },
             "line": {
              "color": "white"
             }
            },
            "header": {
             "fill": {
              "color": "#C8D4E3"
             },
             "line": {
              "color": "white"
             }
            },
            "type": "table"
           }
          ]
         },
         "layout": {
          "annotationdefaults": {
           "arrowcolor": "#2a3f5f",
           "arrowhead": 0,
           "arrowwidth": 1
          },
          "autotypenumbers": "strict",
          "coloraxis": {
           "colorbar": {
            "outlinewidth": 0,
            "ticks": ""
           }
          },
          "colorscale": {
           "diverging": [
            [
             0,
             "#8e0152"
            ],
            [
             0.1,
             "#c51b7d"
            ],
            [
             0.2,
             "#de77ae"
            ],
            [
             0.3,
             "#f1b6da"
            ],
            [
             0.4,
             "#fde0ef"
            ],
            [
             0.5,
             "#f7f7f7"
            ],
            [
             0.6,
             "#e6f5d0"
            ],
            [
             0.7,
             "#b8e186"
            ],
            [
             0.8,
             "#7fbc41"
            ],
            [
             0.9,
             "#4d9221"
            ],
            [
             1,
             "#276419"
            ]
           ],
           "sequential": [
            [
             0,
             "#0d0887"
            ],
            [
             0.1111111111111111,
             "#46039f"
            ],
            [
             0.2222222222222222,
             "#7201a8"
            ],
            [
             0.3333333333333333,
             "#9c179e"
            ],
            [
             0.4444444444444444,
             "#bd3786"
            ],
            [
             0.5555555555555556,
             "#d8576b"
            ],
            [
             0.6666666666666666,
             "#ed7953"
            ],
            [
             0.7777777777777778,
             "#fb9f3a"
            ],
            [
             0.8888888888888888,
             "#fdca26"
            ],
            [
             1,
             "#f0f921"
            ]
           ],
           "sequentialminus": [
            [
             0,
             "#0d0887"
            ],
            [
             0.1111111111111111,
             "#46039f"
            ],
            [
             0.2222222222222222,
             "#7201a8"
            ],
            [
             0.3333333333333333,
             "#9c179e"
            ],
            [
             0.4444444444444444,
             "#bd3786"
            ],
            [
             0.5555555555555556,
             "#d8576b"
            ],
            [
             0.6666666666666666,
             "#ed7953"
            ],
            [
             0.7777777777777778,
             "#fb9f3a"
            ],
            [
             0.8888888888888888,
             "#fdca26"
            ],
            [
             1,
             "#f0f921"
            ]
           ]
          },
          "colorway": [
           "#636efa",
           "#EF553B",
           "#00cc96",
           "#ab63fa",
           "#FFA15A",
           "#19d3f3",
           "#FF6692",
           "#B6E880",
           "#FF97FF",
           "#FECB52"
          ],
          "font": {
           "color": "#2a3f5f"
          },
          "geo": {
           "bgcolor": "white",
           "lakecolor": "white",
           "landcolor": "#E5ECF6",
           "showlakes": true,
           "showland": true,
           "subunitcolor": "white"
          },
          "hoverlabel": {
           "align": "left"
          },
          "hovermode": "closest",
          "mapbox": {
           "style": "light"
          },
          "paper_bgcolor": "white",
          "plot_bgcolor": "#E5ECF6",
          "polar": {
           "angularaxis": {
            "gridcolor": "white",
            "linecolor": "white",
            "ticks": ""
           },
           "bgcolor": "#E5ECF6",
           "radialaxis": {
            "gridcolor": "white",
            "linecolor": "white",
            "ticks": ""
           }
          },
          "scene": {
           "xaxis": {
            "backgroundcolor": "#E5ECF6",
            "gridcolor": "white",
            "gridwidth": 2,
            "linecolor": "white",
            "showbackground": true,
            "ticks": "",
            "zerolinecolor": "white"
           },
           "yaxis": {
            "backgroundcolor": "#E5ECF6",
            "gridcolor": "white",
            "gridwidth": 2,
            "linecolor": "white",
            "showbackground": true,
            "ticks": "",
            "zerolinecolor": "white"
           },
           "zaxis": {
            "backgroundcolor": "#E5ECF6",
            "gridcolor": "white",
            "gridwidth": 2,
            "linecolor": "white",
            "showbackground": true,
            "ticks": "",
            "zerolinecolor": "white"
           }
          },
          "shapedefaults": {
           "line": {
            "color": "#2a3f5f"
           }
          },
          "ternary": {
           "aaxis": {
            "gridcolor": "white",
            "linecolor": "white",
            "ticks": ""
           },
           "baxis": {
            "gridcolor": "white",
            "linecolor": "white",
            "ticks": ""
           },
           "bgcolor": "#E5ECF6",
           "caxis": {
            "gridcolor": "white",
            "linecolor": "white",
            "ticks": ""
           }
          },
          "title": {
           "x": 0.05
          },
          "xaxis": {
           "automargin": true,
           "gridcolor": "white",
           "linecolor": "white",
           "ticks": "",
           "title": {
            "standoff": 15
           },
           "zerolinecolor": "white",
           "zerolinewidth": 2
          },
          "yaxis": {
           "automargin": true,
           "gridcolor": "white",
           "linecolor": "white",
           "ticks": "",
           "title": {
            "standoff": 15
           },
           "zerolinecolor": "white",
           "zerolinewidth": 2
          }
         }
        },
        "title": {
         "text": "RBs"
        },
        "xaxis": {
         "anchor": "y",
         "domain": [
          0,
          1
         ],
         "title": {
          "text": "Usage"
         }
        },
        "yaxis": {
         "anchor": "x",
         "domain": [
          0,
          1
         ],
         "title": {
          "text": "Touchdowns"
         }
        }
       }
      },
      "text/html": [
       "<div>                            <div id=\"a49f1050-52ca-45aa-8d80-0d08d3b7c6e4\" class=\"plotly-graph-div\" style=\"height:400px; width:100%;\"></div>            <script type=\"text/javascript\">                require([\"plotly\"], function(Plotly) {                    window.PLOTLYENV=window.PLOTLYENV || {};                                    if (document.getElementById(\"a49f1050-52ca-45aa-8d80-0d08d3b7c6e4\")) {                    Plotly.newPlot(                        \"a49f1050-52ca-45aa-8d80-0d08d3b7c6e4\",                        [{\"alignmentgroup\":\"True\",\"customdata\":[[\"Jonathan Taylor*+\",333.0],[\"Austin Ekeler\",274.0],[\"Joe Mixon*\",246.0],[\"Najee Harris*\",227.0],[\"James Conner*\",221.0],[\"Ezekiel Elliott\",205.0],[\"Nick Chubb*\",195.0],[\"Damien Harris\",192.0],[\"Alvin Kamara*\",188.0],[\"Antonio Gibson\",187.0],[\"Leonard Fournette\",187.0],[\"Cordarrelle Patterson\",183.0],[\"Aaron Jones\",177.0],[\"Derrick Henry\",175.0],[\"Dalvin Cook*\",172.0],[\"Josh Jacobs\",172.0],[\"Melvin Gordon\",167.0],[\"Javonte Williams\",162.0],[\"Devin Singletary\",158.0],[\"David Montgomery\",153.0],[\"AJ Dillon\",152.0],[\"Darrel Williams\",149.0],[\"D'Andre Swift\",147.0],[\"Elijah Mitchell\",146.0],[\"James Robinson\",143.0],[\"Darrell Henderson\",134.0],[\"Myles Gaskin\",125.0],[\"Sony Michel\",125.0],[\"Tony Pollard\",124.0],[\"Michael Carter\",118.0],[\"Rashaad Penny\",116.0],[\"Devonta Freeman\",113.0],[\"Chuba Hubbard\",113.0],[\"Saquon Barkley\",108.0],[\"Devontae Booker\",104.0],[\"Rhamondre Stevenson\",101.0],[\"Chase Edmonds\",100.0],[\"Clyde Edwards-Helaire\",99.0],[\"Mike Davis\",94.0],[\"Alexander Mattison\",94.0],[\"Latavius Murray\",94.0],[\"Jamaal Williams\",94.0],[\"Christian McCaffrey\",91.0],[\"Miles Sanders\",91.0],[\"Kenneth Gainwell\",90.0],[\"Kareem Hunt\",88.0],[\"Boston Scott\",86.0],[\"D'Onta Foreman\",85.0],[\"D'Ernest Johnson\",85.0],[\"J.D. McKissic\",85.0],[\"Brandon Bolden\",83.0],[\"Ty Johnson\",83.0],[\"Mark Ingram\",82.0],[\"Zack Moss\",82.0],[\"Rex Burkhead\",79.0],[\"Kenyan Drake\",73.0],[\"Nyheim Hines\",73.0],[\"Ronald Jones II\",69.0],[\"Khalil Herbert\",65.0],[\"Justin Jackson\",64.0],[\"Jordan Howard\",61.0],[\"Alex Collins\",60.0],[\"Samaje Perine\",56.0],[\"Duke Johnson\",55.0],[\"Dontrell Hilliard\",54.0],[\"Ameer Abdullah\",52.0]],\"hovertemplate\":\"Usage=%{x}<br>Touchdowns=%{y}<br>Player=%{customdata[0]}<br>FantasyPoints=%{customdata[1]}<extra></extra>\",\"legendgroup\":\"\",\"marker\":{\"color\":\"#636efa\",\"pattern\":{\"shape\":\"\"}},\"name\":\"\",\"offsetgroup\":\"\",\"orientation\":\"h\",\"showlegend\":false,\"textposition\":\"auto\",\"x\":[383.0,300.0,340.0,401.0,241.0,302.0,253.0,223.0,307.0,310.0,264.0,222.0,236.0,239.0,298.0,281.0,241.0,256.0,238.0,276.0,224.0,201.0,229.0,227.0,210.0,189.0,236.0,241.0,176.0,202.0,127.0,175.0,209.0,219.0,190.0,151.0,169.0,142.0,196.0,173.0,132.0,181.0,140.0,171.0,118.0,105.0,103.0,144.0,125.0,101.0,93.0,116.0,195.0,128.0,154.0,103.0,113.0,114.0,119.0,93.0,91.0,118.0,86.0,76.0,82.0,104.0],\"xaxis\":\"x\",\"y\":[20.0,20.0,16.0,10.0,18.0,12.0,9.0,15.0,9.0,10.0,10.0,11.0,10.0,10.0,6.0,9.0,10.0,7.0,8.0,7.0,7.0,8.0,7.0,6.0,8.0,8.0,7.0,5.0,2.0,4.0,6.0,6.0,6.0,4.0,3.0,5.0,2.0,6.0,4.0,4.0,6.0,3.0,2.0,0.0,6.0,5.0,7.0,3.0,3.0,4.0,3.0,4.0,2.0,5.0,3.0,3.0,3.0,4.0,2.0,2.0,3.0,2.0,2.0,3.0,2.0,1.0],\"yaxis\":\"y\",\"type\":\"bar\"}],                        {\"template\":{\"data\":{\"histogram2dcontour\":[{\"type\":\"histogram2dcontour\",\"colorbar\":{\"outlinewidth\":0,\"ticks\":\"\"},\"colorscale\":[[0.0,\"#0d0887\"],[0.1111111111111111,\"#46039f\"],[0.2222222222222222,\"#7201a8\"],[0.3333333333333333,\"#9c179e\"],[0.4444444444444444,\"#bd3786\"],[0.5555555555555556,\"#d8576b\"],[0.6666666666666666,\"#ed7953\"],[0.7777777777777778,\"#fb9f3a\"],[0.8888888888888888,\"#fdca26\"],[1.0,\"#f0f921\"]]}],\"choropleth\":[{\"type\":\"choropleth\",\"colorbar\":{\"outlinewidth\":0,\"ticks\":\"\"}}],\"histogram2d\":[{\"type\":\"histogram2d\",\"colorbar\":{\"outlinewidth\":0,\"ticks\":\"\"},\"colorscale\":[[0.0,\"#0d0887\"],[0.1111111111111111,\"#46039f\"],[0.2222222222222222,\"#7201a8\"],[0.3333333333333333,\"#9c179e\"],[0.4444444444444444,\"#bd3786\"],[0.5555555555555556,\"#d8576b\"],[0.6666666666666666,\"#ed7953\"],[0.7777777777777778,\"#fb9f3a\"],[0.8888888888888888,\"#fdca26\"],[1.0,\"#f0f921\"]]}],\"heatmap\":[{\"type\":\"heatmap\",\"colorbar\":{\"outlinewidth\":0,\"ticks\":\"\"},\"colorscale\":[[0.0,\"#0d0887\"],[0.1111111111111111,\"#46039f\"],[0.2222222222222222,\"#7201a8\"],[0.3333333333333333,\"#9c179e\"],[0.4444444444444444,\"#bd3786\"],[0.5555555555555556,\"#d8576b\"],[0.6666666666666666,\"#ed7953\"],[0.7777777777777778,\"#fb9f3a\"],[0.8888888888888888,\"#fdca26\"],[1.0,\"#f0f921\"]]}],\"heatmapgl\":[{\"type\":\"heatmapgl\",\"colorbar\":{\"outlinewidth\":0,\"ticks\":\"\"},\"colorscale\":[[0.0,\"#0d0887\"],[0.1111111111111111,\"#46039f\"],[0.2222222222222222,\"#7201a8\"],[0.3333333333333333,\"#9c179e\"],[0.4444444444444444,\"#bd3786\"],[0.5555555555555556,\"#d8576b\"],[0.6666666666666666,\"#ed7953\"],[0.7777777777777778,\"#fb9f3a\"],[0.8888888888888888,\"#fdca26\"],[1.0,\"#f0f921\"]]}],\"contourcarpet\":[{\"type\":\"contourcarpet\",\"colorbar\":{\"outlinewidth\":0,\"ticks\":\"\"}}],\"contour\":[{\"type\":\"contour\",\"colorbar\":{\"outlinewidth\":0,\"ticks\":\"\"},\"colorscale\":[[0.0,\"#0d0887\"],[0.1111111111111111,\"#46039f\"],[0.2222222222222222,\"#7201a8\"],[0.3333333333333333,\"#9c179e\"],[0.4444444444444444,\"#bd3786\"],[0.5555555555555556,\"#d8576b\"],[0.6666666666666666,\"#ed7953\"],[0.7777777777777778,\"#fb9f3a\"],[0.8888888888888888,\"#fdca26\"],[1.0,\"#f0f921\"]]}],\"surface\":[{\"type\":\"surface\",\"colorbar\":{\"outlinewidth\":0,\"ticks\":\"\"},\"colorscale\":[[0.0,\"#0d0887\"],[0.1111111111111111,\"#46039f\"],[0.2222222222222222,\"#7201a8\"],[0.3333333333333333,\"#9c179e\"],[0.4444444444444444,\"#bd3786\"],[0.5555555555555556,\"#d8576b\"],[0.6666666666666666,\"#ed7953\"],[0.7777777777777778,\"#fb9f3a\"],[0.8888888888888888,\"#fdca26\"],[1.0,\"#f0f921\"]]}],\"mesh3d\":[{\"type\":\"mesh3d\",\"colorbar\":{\"outlinewidth\":0,\"ticks\":\"\"}}],\"scatter\":[{\"fillpattern\":{\"fillmode\":\"overlay\",\"size\":10,\"solidity\":0.2},\"type\":\"scatter\"}],\"parcoords\":[{\"type\":\"parcoords\",\"line\":{\"colorbar\":{\"outlinewidth\":0,\"ticks\":\"\"}}}],\"scatterpolargl\":[{\"type\":\"scatterpolargl\",\"marker\":{\"colorbar\":{\"outlinewidth\":0,\"ticks\":\"\"}}}],\"bar\":[{\"error_x\":{\"color\":\"#2a3f5f\"},\"error_y\":{\"color\":\"#2a3f5f\"},\"marker\":{\"line\":{\"color\":\"#E5ECF6\",\"width\":0.5},\"pattern\":{\"fillmode\":\"overlay\",\"size\":10,\"solidity\":0.2}},\"type\":\"bar\"}],\"scattergeo\":[{\"type\":\"scattergeo\",\"marker\":{\"colorbar\":{\"outlinewidth\":0,\"ticks\":\"\"}}}],\"scatterpolar\":[{\"type\":\"scatterpolar\",\"marker\":{\"colorbar\":{\"outlinewidth\":0,\"ticks\":\"\"}}}],\"histogram\":[{\"marker\":{\"pattern\":{\"fillmode\":\"overlay\",\"size\":10,\"solidity\":0.2}},\"type\":\"histogram\"}],\"scattergl\":[{\"type\":\"scattergl\",\"marker\":{\"colorbar\":{\"outlinewidth\":0,\"ticks\":\"\"}}}],\"scatter3d\":[{\"type\":\"scatter3d\",\"line\":{\"colorbar\":{\"outlinewidth\":0,\"ticks\":\"\"}},\"marker\":{\"colorbar\":{\"outlinewidth\":0,\"ticks\":\"\"}}}],\"scattermapbox\":[{\"type\":\"scattermapbox\",\"marker\":{\"colorbar\":{\"outlinewidth\":0,\"ticks\":\"\"}}}],\"scatterternary\":[{\"type\":\"scatterternary\",\"marker\":{\"colorbar\":{\"outlinewidth\":0,\"ticks\":\"\"}}}],\"scattercarpet\":[{\"type\":\"scattercarpet\",\"marker\":{\"colorbar\":{\"outlinewidth\":0,\"ticks\":\"\"}}}],\"carpet\":[{\"aaxis\":{\"endlinecolor\":\"#2a3f5f\",\"gridcolor\":\"white\",\"linecolor\":\"white\",\"minorgridcolor\":\"white\",\"startlinecolor\":\"#2a3f5f\"},\"baxis\":{\"endlinecolor\":\"#2a3f5f\",\"gridcolor\":\"white\",\"linecolor\":\"white\",\"minorgridcolor\":\"white\",\"startlinecolor\":\"#2a3f5f\"},\"type\":\"carpet\"}],\"table\":[{\"cells\":{\"fill\":{\"color\":\"#EBF0F8\"},\"line\":{\"color\":\"white\"}},\"header\":{\"fill\":{\"color\":\"#C8D4E3\"},\"line\":{\"color\":\"white\"}},\"type\":\"table\"}],\"barpolar\":[{\"marker\":{\"line\":{\"color\":\"#E5ECF6\",\"width\":0.5},\"pattern\":{\"fillmode\":\"overlay\",\"size\":10,\"solidity\":0.2}},\"type\":\"barpolar\"}],\"pie\":[{\"automargin\":true,\"type\":\"pie\"}]},\"layout\":{\"autotypenumbers\":\"strict\",\"colorway\":[\"#636efa\",\"#EF553B\",\"#00cc96\",\"#ab63fa\",\"#FFA15A\",\"#19d3f3\",\"#FF6692\",\"#B6E880\",\"#FF97FF\",\"#FECB52\"],\"font\":{\"color\":\"#2a3f5f\"},\"hovermode\":\"closest\",\"hoverlabel\":{\"align\":\"left\"},\"paper_bgcolor\":\"white\",\"plot_bgcolor\":\"#E5ECF6\",\"polar\":{\"bgcolor\":\"#E5ECF6\",\"angularaxis\":{\"gridcolor\":\"white\",\"linecolor\":\"white\",\"ticks\":\"\"},\"radialaxis\":{\"gridcolor\":\"white\",\"linecolor\":\"white\",\"ticks\":\"\"}},\"ternary\":{\"bgcolor\":\"#E5ECF6\",\"aaxis\":{\"gridcolor\":\"white\",\"linecolor\":\"white\",\"ticks\":\"\"},\"baxis\":{\"gridcolor\":\"white\",\"linecolor\":\"white\",\"ticks\":\"\"},\"caxis\":{\"gridcolor\":\"white\",\"linecolor\":\"white\",\"ticks\":\"\"}},\"coloraxis\":{\"colorbar\":{\"outlinewidth\":0,\"ticks\":\"\"}},\"colorscale\":{\"sequential\":[[0.0,\"#0d0887\"],[0.1111111111111111,\"#46039f\"],[0.2222222222222222,\"#7201a8\"],[0.3333333333333333,\"#9c179e\"],[0.4444444444444444,\"#bd3786\"],[0.5555555555555556,\"#d8576b\"],[0.6666666666666666,\"#ed7953\"],[0.7777777777777778,\"#fb9f3a\"],[0.8888888888888888,\"#fdca26\"],[1.0,\"#f0f921\"]],\"sequentialminus\":[[0.0,\"#0d0887\"],[0.1111111111111111,\"#46039f\"],[0.2222222222222222,\"#7201a8\"],[0.3333333333333333,\"#9c179e\"],[0.4444444444444444,\"#bd3786\"],[0.5555555555555556,\"#d8576b\"],[0.6666666666666666,\"#ed7953\"],[0.7777777777777778,\"#fb9f3a\"],[0.8888888888888888,\"#fdca26\"],[1.0,\"#f0f921\"]],\"diverging\":[[0,\"#8e0152\"],[0.1,\"#c51b7d\"],[0.2,\"#de77ae\"],[0.3,\"#f1b6da\"],[0.4,\"#fde0ef\"],[0.5,\"#f7f7f7\"],[0.6,\"#e6f5d0\"],[0.7,\"#b8e186\"],[0.8,\"#7fbc41\"],[0.9,\"#4d9221\"],[1,\"#276419\"]]},\"xaxis\":{\"gridcolor\":\"white\",\"linecolor\":\"white\",\"ticks\":\"\",\"title\":{\"standoff\":15},\"zerolinecolor\":\"white\",\"automargin\":true,\"zerolinewidth\":2},\"yaxis\":{\"gridcolor\":\"white\",\"linecolor\":\"white\",\"ticks\":\"\",\"title\":{\"standoff\":15},\"zerolinecolor\":\"white\",\"automargin\":true,\"zerolinewidth\":2},\"scene\":{\"xaxis\":{\"backgroundcolor\":\"#E5ECF6\",\"gridcolor\":\"white\",\"linecolor\":\"white\",\"showbackground\":true,\"ticks\":\"\",\"zerolinecolor\":\"white\",\"gridwidth\":2},\"yaxis\":{\"backgroundcolor\":\"#E5ECF6\",\"gridcolor\":\"white\",\"linecolor\":\"white\",\"showbackground\":true,\"ticks\":\"\",\"zerolinecolor\":\"white\",\"gridwidth\":2},\"zaxis\":{\"backgroundcolor\":\"#E5ECF6\",\"gridcolor\":\"white\",\"linecolor\":\"white\",\"showbackground\":true,\"ticks\":\"\",\"zerolinecolor\":\"white\",\"gridwidth\":2}},\"shapedefaults\":{\"line\":{\"color\":\"#2a3f5f\"}},\"annotationdefaults\":{\"arrowcolor\":\"#2a3f5f\",\"arrowhead\":0,\"arrowwidth\":1},\"geo\":{\"bgcolor\":\"white\",\"landcolor\":\"#E5ECF6\",\"subunitcolor\":\"white\",\"showland\":true,\"showlakes\":true,\"lakecolor\":\"white\"},\"title\":{\"x\":0.05},\"mapbox\":{\"style\":\"light\"}}},\"xaxis\":{\"anchor\":\"y\",\"domain\":[0.0,1.0],\"title\":{\"text\":\"Usage\"}},\"yaxis\":{\"anchor\":\"x\",\"domain\":[0.0,1.0],\"title\":{\"text\":\"Touchdowns\"}},\"legend\":{\"tracegroupgap\":0},\"title\":{\"text\":\"RBs\"},\"barmode\":\"relative\",\"height\":400},                        {\"responsive\": true}                    ).then(function(){\n",
       "                            \n",
       "var gd = document.getElementById('a49f1050-52ca-45aa-8d80-0d08d3b7c6e4');\n",
       "var x = new MutationObserver(function (mutations, observer) {{\n",
       "        var display = window.getComputedStyle(gd).display;\n",
       "        if (!display || display === 'none') {{\n",
       "            console.log([gd, 'removed!']);\n",
       "            Plotly.purge(gd);\n",
       "            observer.disconnect();\n",
       "        }}\n",
       "}});\n",
       "\n",
       "// Listen for the removal of the full notebook cells\n",
       "var notebookContainer = gd.closest('#notebook-container');\n",
       "if (notebookContainer) {{\n",
       "    x.observe(notebookContainer, {childList: true});\n",
       "}}\n",
       "\n",
       "// Listen for the clearing of the current output cell\n",
       "var outputEl = gd.closest('.output');\n",
       "if (outputEl) {{\n",
       "    x.observe(outputEl, {childList: true});\n",
       "}}\n",
       "\n",
       "                        })                };                });            </script>        </div>"
      ]
     },
     "metadata": {},
     "output_type": "display_data"
    }
   ],
   "source": [
    "rb_fps = rb_df.loc[rb_df['FantasyPoints'] >= 50]\n",
    "fig = px.bar(rb_fps, x=\"Usage\", y=\"Touchdowns\", orientation='h', height=400, hover_data=[\"Player\", \"FantasyPoints\"],\n",
    "             title='RBs')\n",
    "fig.show()\n"
   ]
  },
  {
   "cell_type": "code",
   "execution_count": null,
   "id": "6ec87ed9",
   "metadata": {},
   "outputs": [],
   "source": []
  }
 ],
 "metadata": {
  "kernelspec": {
   "display_name": "Python 3 (ipykernel)",
   "language": "python",
   "name": "python3"
  },
  "language_info": {
   "codemirror_mode": {
    "name": "ipython",
    "version": 3
   },
   "file_extension": ".py",
   "mimetype": "text/x-python",
   "name": "python",
   "nbconvert_exporter": "python",
   "pygments_lexer": "ipython3",
   "version": "3.7.7"
  }
 },
 "nbformat": 4,
 "nbformat_minor": 5
}
